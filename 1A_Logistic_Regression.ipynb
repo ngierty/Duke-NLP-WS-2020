{
 "cells": [
  {
   "cell_type": "markdown",
   "metadata": {},
   "source": [
    "# Introduction to Logistic Regression in PyTorch"
   ]
  },
  {
   "cell_type": "markdown",
   "metadata": {},
   "source": [
    "In this notebook, we're going to build a very simple neural network in PyTorch to do handwritten digit classification.\n",
    "First, we'll start with some exploration of the MNIST dataset, explaining how we load and format the data.\n",
    "We'll then jump into motivating and then implementing the logistic regression model, including the forward and backwards pass, loss functions, and optimizers.\n",
    "After training the model, we'll evaluate how we did and visualize what we've learned.\n",
    "Finally, we'll refactor our code in an object-oriented manner, using higher level APIs.\n",
    "\n",
    "Before we get started, some imports for the packages we'll be using:"
   ]
  },
  {
   "cell_type": "code",
   "execution_count": 1,
   "metadata": {},
   "outputs": [],
   "source": [
<<<<<<< HEAD
    "# import necessary packages\n",
    "\n",
=======
>>>>>>> d3c9bc8231a6800f15f129837ab962b75b4ee53d
    "%matplotlib inline\n",
    "\n",
    "import numpy as np\n",
    "import matplotlib.pyplot as plt\n",
    "import torch\n",
    "from tqdm.notebook import tqdm"
   ]
  },
  {
   "cell_type": "markdown",
   "metadata": {},
   "source": [
    "### MNIST Dataset"
   ]
  },
  {
   "cell_type": "markdown",
   "metadata": {},
   "source": [
    "The MNIST dataset is very popular machine learning dataset, consisting of 70000 grayscale images of handwritten digits, of dimensions 28x28. \n",
    "We'll be using it as our example dataset for this section of the tutorial, with the goal being to predict which digit is in each image.\n",
    "\n",
    "![mnist](Figures/mnist.png)\n",
    "\n",
    "The first (and often most important) step in machine learning is preparing the data.\n",
    "This can include downloading, organizing, formatting, shuffling, pre-processing, augmenting, and batching examples so that they can be fed to a model.\n",
    "The `torchvision` package makes this easy by implementing many of these, allowing us to put these datasets into a usable form in only a few lines of code.\n",
    "First, let's download the train and test sets of MNIST:"
   ]
  },
  {
   "cell_type": "code",
   "execution_count": 2,
   "metadata": {},
<<<<<<< HEAD
   "outputs": [
    {
     "name": "stderr",
     "output_type": "stream",
     "text": [
      "  0%|          | 0/9912422 [00:00<?, ?it/s]"
     ]
    },
    {
     "name": "stdout",
     "output_type": "stream",
     "text": [
      "Downloading http://yann.lecun.com/exdb/mnist/train-images-idx3-ubyte.gz to .datasets/MNIST/raw/train-images-idx3-ubyte.gz\n"
     ]
    },
    {
     "name": "stderr",
     "output_type": "stream",
     "text": [
      "9920512it [00:01, 5018688.86it/s]                             \n"
     ]
    },
    {
     "name": "stdout",
     "output_type": "stream",
     "text": [
      "Extracting .datasets/MNIST/raw/train-images-idx3-ubyte.gz to .datasets/MNIST/raw\n"
     ]
    },
    {
     "name": "stderr",
     "output_type": "stream",
     "text": [
      "32768it [00:00, 381103.70it/s]\n",
      "0it [00:00, ?it/s]"
     ]
    },
    {
     "name": "stdout",
     "output_type": "stream",
     "text": [
      "Downloading http://yann.lecun.com/exdb/mnist/train-labels-idx1-ubyte.gz to .datasets/MNIST/raw/train-labels-idx1-ubyte.gz\n",
      "Extracting .datasets/MNIST/raw/train-labels-idx1-ubyte.gz to .datasets/MNIST/raw\n",
      "Downloading http://yann.lecun.com/exdb/mnist/t10k-images-idx3-ubyte.gz to .datasets/MNIST/raw/t10k-images-idx3-ubyte.gz\n"
     ]
    },
    {
     "name": "stderr",
     "output_type": "stream",
     "text": [
      "1654784it [00:00, 2085855.40it/s]                            \n",
      "0it [00:00, ?it/s]"
     ]
    },
    {
     "name": "stdout",
     "output_type": "stream",
     "text": [
      "Extracting .datasets/MNIST/raw/t10k-images-idx3-ubyte.gz to .datasets/MNIST/raw\n",
      "Downloading http://yann.lecun.com/exdb/mnist/t10k-labels-idx1-ubyte.gz to .datasets/MNIST/raw/t10k-labels-idx1-ubyte.gz\n"
     ]
    },
    {
     "name": "stderr",
     "output_type": "stream",
     "text": [
      "8192it [00:00, 82446.68it/s]\n"
     ]
    },
    {
     "name": "stdout",
     "output_type": "stream",
     "text": [
      "Extracting .datasets/MNIST/raw/t10k-labels-idx1-ubyte.gz to .datasets/MNIST/raw\n",
      "Processing...\n",
      "Done!\n"
     ]
    }
   ],
   "source": [
    "from torchvision import datasets, transforms\n",
    "\n",
    "mnist_train = datasets.MNIST(root = '.datasets', train = True, transform = transforms.ToTensor(), download = True)\n",
    "mnist_test = datasets.MNIST(root = '.datasets', train = False, transform = transforms.ToTensor(), download = True)"
=======
   "outputs": [],
   "source": [
    "from torchvision import datasets, transforms\n",
    "\n",
    "mnist_train = datasets.MNIST(root=\"./datasets\", train=True, transform=transforms.ToTensor(), download=True)\n",
    "mnist_test = datasets.MNIST(root=\"./datasets\", train=False, transform=transforms.ToTensor(), download=True)"
>>>>>>> d3c9bc8231a6800f15f129837ab962b75b4ee53d
   ]
  },
  {
   "cell_type": "code",
<<<<<<< HEAD
   "execution_count": 11,
=======
   "execution_count": 3,
>>>>>>> d3c9bc8231a6800f15f129837ab962b75b4ee53d
   "metadata": {},
   "outputs": [
    {
     "name": "stdout",
     "output_type": "stream",
     "text": [
<<<<<<< HEAD
      "Number of MNIST training examples: Dataset MNIST\n",
      "    Number of datapoints: 60000\n",
      "    Root location: .datasets\n",
      "    Split: Train\n",
      "    StandardTransform\n",
      "Transform: ToTensor()\n",
      "Number of MNIST test examples: Dataset MNIST\n",
      "    Number of datapoints: 10000\n",
      "    Root location: .datasets\n",
      "    Split: Test\n",
      "    StandardTransform\n",
      "Transform: ToTensor()\n"
=======
      "Number of MNIST training examples: 60000\n",
      "Number of MNIST test examples: 10000\n"
>>>>>>> d3c9bc8231a6800f15f129837ab962b75b4ee53d
     ]
    }
   ],
   "source": [
<<<<<<< HEAD
    "print(\"Number of MNIST training examples: {}\".format(mnist_train))\n",
    "print(\"Number of MNIST test examples: {}\".format(mnist_test))"
=======
    "print(\"Number of MNIST training examples: {}\".format(len(mnist_train)))\n",
    "print(\"Number of MNIST test examples: {}\".format(len(mnist_test)))"
>>>>>>> d3c9bc8231a6800f15f129837ab962b75b4ee53d
   ]
  },
  {
   "cell_type": "markdown",
   "metadata": {},
   "source": [
    "As we'd expect, 60000 of the MNIST examples are in the train set, and the rest are in the test set.\n",
    "We added the transform `ToTensor()` when formatting the dataset, to convert the input data from a Pillow `Image` type into a PyTorch `Tensor`. Tensors will eventually be the input type that we feed into our model. \n",
    "\n",
    "Let's look at an example image from the train set and its label.\n",
    "Notice that the `image` tensor defaults to something 3-dimensional.\n",
    "The \"1\" in the first dimension indicates that the image only has one channel (i.e. grayscale).\n",
    "We need to get rid of this to visualize the image with `imshow`."
   ]
  },
  {
   "cell_type": "code",
<<<<<<< HEAD
   "execution_count": 16,
=======
   "execution_count": 4,
>>>>>>> d3c9bc8231a6800f15f129837ab962b75b4ee53d
   "metadata": {
    "scrolled": false
   },
   "outputs": [
    {
     "name": "stdout",
     "output_type": "stream",
     "text": [
      "Default image shape: torch.Size([1, 28, 28])\n",
      "Reshaped image shape: torch.Size([28, 28])\n",
      "The label for this image: 1\n"
     ]
    },
    {
     "data": {
      "image/png": "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\n",
      "text/plain": [
       "<Figure size 432x288 with 1 Axes>"
      ]
     },
     "metadata": {
      "needs_background": "light"
     },
     "output_type": "display_data"
    }
   ],
   "source": [
    "# Pick out the 4th (0-indexed) example from the training set\n",
    "image, label = mnist_train[3]\n",
    "\n",
    "# Plot the image\n",
    "print(\"Default image shape: {}\".format(image.shape))\n",
<<<<<<< HEAD
    "image = image.reshape([28,28])\n",
    "\n",
    "print(\"Reshaped image shape: {}\".format(image.shape))\n",
    "plt.imshow(image, cmap = 'gray')\n",
    "\n",
=======
    "image  = image.reshape([28,28])\n",
    "print(\"Reshaped image shape: {}\".format(image.shape))\n",
    "plt.imshow(image, cmap=\"gray\")\n",
>>>>>>> d3c9bc8231a6800f15f129837ab962b75b4ee53d
    "\n",
    "# Print the label\n",
    "print(\"The label for this image: {}\".format(label))"
   ]
  },
  {
   "cell_type": "markdown",
   "metadata": {},
   "source": [
    "While we could work directly with the data as a `torchvision.dataset`, we'll find it useful to use a `DataLoader`, which will take care of shuffling and batching:"
   ]
  },
  {
   "cell_type": "code",
<<<<<<< HEAD
   "execution_count": 13,
   "metadata": {},
   "outputs": [],
   "source": [
    "train_loader = torch.utils.data.DataLoader(mnist_train, batch_size = 100, shuffle = True)\n",
    "test_loader = torch.utils.data.DataLoader(mnist_test, batch_size = 100, shuffle = False)"
=======
   "execution_count": 5,
   "metadata": {},
   "outputs": [],
   "source": [
    "train_loader = torch.utils.data.DataLoader(mnist_train, batch_size=100, shuffle=True)\n",
    "test_loader = torch.utils.data.DataLoader(mnist_test, batch_size=100, shuffle=False)"
>>>>>>> d3c9bc8231a6800f15f129837ab962b75b4ee53d
   ]
  },
  {
   "cell_type": "markdown",
   "metadata": {},
   "source": [
    "An example of a minibatch drawn from a `DataLoader`:"
   ]
  },
  {
   "cell_type": "code",
<<<<<<< HEAD
   "execution_count": 15,
=======
   "execution_count": 6,
>>>>>>> d3c9bc8231a6800f15f129837ab962b75b4ee53d
   "metadata": {
    "scrolled": true
   },
   "outputs": [
    {
     "name": "stdout",
     "output_type": "stream",
     "text": [
      "Shape of the minibatch of images: torch.Size([100, 1, 28, 28])\n",
      "Shape of the minibatch of labels: torch.Size([100])\n"
     ]
    }
   ],
   "source": [
    "data_train_iter = iter(train_loader)\n",
    "images, labels = data_train_iter.next()\n",
    "\n",
<<<<<<< HEAD
=======
    "\n",
>>>>>>> d3c9bc8231a6800f15f129837ab962b75b4ee53d
    "print(\"Shape of the minibatch of images: {}\".format(images.shape))\n",
    "print(\"Shape of the minibatch of labels: {}\".format(labels.shape))"
   ]
  },
  {
   "cell_type": "markdown",
   "metadata": {},
   "source": [
    "#### Checkpoint\n",
    "\n",
    "If you had any difficulties typing the above code, the below are the lines necessary for the next section.\n",
    "Simply uncomment the entire cell block (`Ctrl/Cmd + A` -> `Ctrl/Cmd + /`), and then run the cell.\n",
    "If you've followed along so far, you can skip this cell block."
   ]
  },
  {
   "cell_type": "code",
   "execution_count": 7,
   "metadata": {},
   "outputs": [],
   "source": [
    "# %matplotlib inline\n",
    "\n",
    "# import numpy as np\n",
    "# import matplotlib.pyplot as plt\n",
    "# import torch\n",
    "# from torchvision import datasets, transforms\n",
    "# from tqdm.notebook import tqdm\n",
    "\n",
    "# # Load MNIST dataset\n",
    "# mnist_train = datasets.MNIST(root=\"./datasets\", train=True, transform=transforms.ToTensor(), download=True)\n",
    "# mnist_test = datasets.MNIST(root=\"./datasets\", train=False, transform=transforms.ToTensor(), download=True)\n",
    "\n",
    "# # Create DataLoaders for train and test sets\n",
    "# train_loader = torch.utils.data.DataLoader(mnist_train, batch_size=100, shuffle=True)\n",
    "# test_loader = torch.utils.data.DataLoader(mnist_test, batch_size=100, shuffle=False)\n",
    "\n",
    "# Load first minibatch\n",
    "# data_train_iter = iter(train_loader)\n",
    "# images, labels = data_train_iter.next()"
   ]
  },
  {
   "cell_type": "markdown",
   "metadata": {},
   "source": [
    "### Logistic Regression Model"
   ]
  },
  {
   "cell_type": "markdown",
   "metadata": {},
   "source": [
    "Now that we have a good feel for how to load our data, let's start putting together our model. \n",
    "In this tutorial, we'll be building a logistic regression model, which is essentially a fully-connected neural network without any hidden layers. \n",
    "While fairly basic, logistic regression can perform surprisingly well on many simple classification tasks.\n",
    "\n",
    "#### The forward pass\n",
    "\n",
    "While our data inputs (which we'll call `x`) are images (i.e. 2-dimensional), MNIST digits are pretty small, and the model we're using is very simple.\n",
    "Thus, we're going to be treating the input as flat vectors.\n",
    "To convert our inputs into row vectors (a.k.a. flattening), we can use `view()`, the equivalent of NumPy's `reshape()`.\n",
    "Also like NumPy, we can replace one of the dimensions of the reshaping with a `-1`, which tells PyTorch to infer this dimension based on the original dimensions and the other specified dimensions.\n",
    "Let's do try this flattening on the minibatch of 100 images we drew in the previous section."
   ]
  },
  {
   "cell_type": "code",
<<<<<<< HEAD
   "execution_count": 18,
=======
   "execution_count": 8,
>>>>>>> d3c9bc8231a6800f15f129837ab962b75b4ee53d
   "metadata": {},
   "outputs": [
    {
     "name": "stdout",
     "output_type": "stream",
     "text": [
      "The shape of input x: torch.Size([100, 784])\n"
     ]
    }
   ],
   "source": [
<<<<<<< HEAD
    "x = images.view(-1, 28*28) # -1 says infer the dimensions\n",
=======
    "x = images.view(-1, 28*28)\n",
>>>>>>> d3c9bc8231a6800f15f129837ab962b75b4ee53d
    "print(\"The shape of input x: {}\".format(x.shape))"
   ]
  },
  {
   "cell_type": "markdown",
   "metadata": {},
   "source": [
    "To get our predicted probabilities of each digit, let's first start with the probability of a digit being a 1 like the image above. \n",
    "For our simple model, we can start by applying a linear transformation. \n",
    "That is, we multiply each pixel $x_i$ of the input row vector by a weight $w_{i,1}$, sum them all together, and then add a bias $b_1$.\n",
    "This is equivalent to a dot product between the class \"1\" weights and the input:\n",
    "\n",
    "\\begin{align}\n",
    "y_1 = \\sum_i x_i w_{i,1} + b_1\n",
    "\\end{align}\n",
    "\n",
    "The magnitude of this result $y_1$, we'll take as being correlated to our belief in how likely we think the input digit was a 1. \n",
    "The higher the value of $y_1$, the more likely we think the input image $x$ was a 1 (i.e., we'd hope we'd get a relatively large value for $y_1$ for the above image). \n",
    "Remember though, our original goal was to identify all 10 digits, so we actually have:\n",
    "\n",
    "\\begin{align*}\n",
    "y_0 =& \\sum_i x_i w_{i,0} + b_0 \\\\\n",
    "y_1 =& \\sum_i x_i w_{i,1} + b_1 \\\\\n",
    "y_2 =& \\sum_i x_i w_{i,2} + b_2 \\\\\n",
    "y_3 =& \\sum_i x_i w_{i,3} + b_3 \\\\\n",
    "y_4 =& \\sum_i x_i w_{i,4} + b_4 \\\\\n",
    "y_5 =& \\sum_i x_i w_{i,5} + b_5 \\\\\n",
    "y_6 =& \\sum_i x_i w_{i,6} + b_6 \\\\\n",
    "y_7 =& \\sum_i x_i w_{i,7} + b_7 \\\\\n",
    "y_8 =& \\sum_i x_i w_{i,8} + b_8 \\\\\n",
    "y_9 =& \\sum_i x_i w_{i,9} + b_9\n",
    "\\end{align*}\n",
    "\n",
    "We can express this in matrix form as:\n",
    "\n",
    "\\begin{align}\n",
    "y = x W + b \n",
    "\\end{align}\n",
    "\n",
    "To take advantage of parallel computation, we commonly process multiple inputs $x$ at once, in a minibatch.\n",
    "We can stack each input $x$ into a matrix $X$, giving us \n",
    "\n",
    "\\begin{align}\n",
    "Y = X W + b \n",
    "\\end{align}\n",
    "\n",
    "Visualizing the dimensions:\n",
    "\n",
    "<img src=\"Figures/mnist_matmul.PNG\" width=\"500\"/>\n",
    "\n",
    "In our specific example, the minibatch size $m$ is $100$, the dimension of the data is $28 \\times 28=784$, and the number of classes $c$ is $10$.\n",
    "While $X$ and $Y$ are matrices due to the batching, conventionally, they are often given lowercase variable names, as if they were for a single example.\n",
    "We will use `x` and `y` throughout."
   ]
  },
  {
   "cell_type": "markdown",
   "metadata": {},
   "source": [
    "The weight $W$ and bias $b$ make up the parameters of this model.\n",
    "When we say that we want to \"learn the model,\" what we're really trying to do is find good values for every element in $W$ and $b$.\n",
    "Before we begin learning, we need to initialize our parameters to some value, as a starting point.\n",
    "Here, we don't really know what the best values are, so we going to initialize $W$ randomly (using something called [Xavier initialization](http://proceedings.mlr.press/v9/glorot10a.html)), and set $b$ to a vector of zeros."
   ]
  },
  {
   "cell_type": "code",
<<<<<<< HEAD
   "execution_count": 20,
=======
   "execution_count": 9,
>>>>>>> d3c9bc8231a6800f15f129837ab962b75b4ee53d
   "metadata": {},
   "outputs": [],
   "source": [
    "# Randomly initialize weights W\n",
<<<<<<< HEAD
    "# Xavior initialization\n",
=======
>>>>>>> d3c9bc8231a6800f15f129837ab962b75b4ee53d
    "W = torch.randn(784, 10)/np.sqrt(784)\n",
    "W.requires_grad_()\n",
    "\n",
    "# Initialize bias b as 0s\n",
<<<<<<< HEAD
    "b = torch.zeros(10, requires_grad = True)"
=======
    "b = torch.zeros(10, requires_grad=True)"
>>>>>>> d3c9bc8231a6800f15f129837ab962b75b4ee53d
   ]
  },
  {
   "cell_type": "markdown",
   "metadata": {},
   "source": [
    "As both `W` and `b` are parameters we wish to learn, we set `requires_grad` to `True`. \n",
    "This tells PyTorch's autograd to track the gradients for these two variables, and all the variables depending on `W` and `b`.\n",
    "\n",
    "With these model parameters, we compute $y$:"
   ]
  },
  {
   "cell_type": "code",
<<<<<<< HEAD
   "execution_count": 23,
=======
   "execution_count": 10,
>>>>>>> d3c9bc8231a6800f15f129837ab962b75b4ee53d
   "metadata": {},
   "outputs": [
    {
     "name": "stdout",
     "output_type": "stream",
     "text": [
      "tensor([ 0.1727,  0.2535, -0.4309, -0.0512, -0.0765, -0.1965,  0.2798, -0.1093,\n",
      "         0.1757,  0.0432], grad_fn=<SliceBackward>)\n"
     ]
    }
   ],
   "source": [
    "# Linear transformation with W and b\n",
<<<<<<< HEAD
    "y = torch.matmul(x, W) + b\n",
    "print(y[0,:])"
=======
    "y = torch.matmul(x, W) + b"
>>>>>>> d3c9bc8231a6800f15f129837ab962b75b4ee53d
   ]
  },
  {
   "cell_type": "markdown",
   "metadata": {},
   "source": [
    "We can see for example what the predictions look like for the first example in our minibatch. Remember, the bigger the number, the more the model thinks the input $x$ is of that class."
   ]
  },
  {
<<<<<<< HEAD
=======
   "cell_type": "code",
   "execution_count": 11,
   "metadata": {},
   "outputs": [
    {
     "name": "stdout",
     "output_type": "stream",
     "text": [
      "tensor([-0.1679,  0.3719,  0.1577,  0.4496, -0.0880, -0.1963, -0.3884,  0.1296,\n",
      "        -0.2477,  0.4028], grad_fn=<SliceBackward>)\n"
     ]
    }
   ],
   "source": [
    "print(y[0,:])"
   ]
  },
  {
>>>>>>> d3c9bc8231a6800f15f129837ab962b75b4ee53d
   "cell_type": "markdown",
   "metadata": {},
   "source": [
    "We can interpret these values (aka logits) $y$ as probabilities if we normalize them to be positive and add up to 1. In logistic regression, we do this with a softmax:\n",
    "\n",
    "\\begin{align}\n",
    "p(y_i) = \\text{softmax}(y_i) = \\frac{\\text{exp}(y_i)}{\\sum_j\\text{exp}(y_j)}\n",
    "\\end{align}\n",
    "\n",
    "Notice that because the range of the exponential function is always non-negative, and since we're normalizing by the sum, the softmax achieves the desired property of producing values between 0 and 1 that sum to 1. If we look at the case with only 2 classes, we see that the softmax is the multi-class extension of the binary sigmoid function: \n",
    "\n",
    "<img src=\"Figures/Logistic-curve.png\" width=\"300\"/>\n",
    "\n",
    "We can compute the softmax ourselves using the above formula if we'd like, but PyTorch already has the softmax function in `torch.nn.functional`:"
   ]
  },
  {
   "cell_type": "code",
<<<<<<< HEAD
   "execution_count": 27,
=======
   "execution_count": 12,
>>>>>>> d3c9bc8231a6800f15f129837ab962b75b4ee53d
   "metadata": {},
   "outputs": [
    {
     "name": "stdout",
     "output_type": "stream",
     "text": [
<<<<<<< HEAD
      "py[0] from equation: tensor([0.1156, 0.1253, 0.0632, 0.0924, 0.0901, 0.0799, 0.1287, 0.0872, 0.1160,\n",
      "        0.1016], grad_fn=<SelectBackward>)\n",
      "py[0] with torch.nn.functional.softmax: tensor([0.1156, 0.1253, 0.0632, 0.0924, 0.0901, 0.0799, 0.1287, 0.0872, 0.1160,\n",
      "        0.1016], grad_fn=<SelectBackward>)\n"
=======
      "py[0] from equation: tensor([0.0778, 0.1335, 0.1078, 0.1443, 0.0843, 0.0756, 0.0624, 0.1048, 0.0718,\n",
      "        0.1377], grad_fn=<SelectBackward>)\n",
      "py[0] with torch.nn.functional.softmax: tensor([0.0778, 0.1335, 0.1078, 0.1443, 0.0843, 0.0756, 0.0624, 0.1048, 0.0718,\n",
      "        0.1377], grad_fn=<SelectBackward>)\n"
>>>>>>> d3c9bc8231a6800f15f129837ab962b75b4ee53d
     ]
    }
   ],
   "source": [
    "# Option 1: Softmax to probabilities from equation\n",
    "py_eq = torch.exp(y) / torch.sum(torch.exp(y), dim=1, keepdim=True)\n",
    "print(\"py[0] from equation: {}\".format(py_eq[0]))\n",
    "\n",
    "# Option 2: Softmax to probabilities with torch.nn.functional\n",
    "import torch.nn.functional as F\n",
<<<<<<< HEAD
    "py = F.softmax(y, dim = 1)\n",
    "print(\"py[0] with torch.nn.functional.softmax: {}\".format(py[0]))\n",
    "\n",
    "# note that it's not particularly confident on anything so far"
=======
    "py = F.softmax(y, dim=1)\n",
    "print(\"py[0] with torch.nn.functional.softmax: {}\".format(py[0]))"
>>>>>>> d3c9bc8231a6800f15f129837ab962b75b4ee53d
   ]
  },
  {
   "cell_type": "markdown",
   "metadata": {},
   "source": [
    "We've now defined the forward pass of our model: given an input image, the graph returns the probabilities the model thinks the input is each of the 10 classes. Are we done?"
   ]
  },
  {
   "cell_type": "markdown",
   "metadata": {},
   "source": [
    "#### The cross-entropy loss\n",
    "\n",
    "This tutorial isn't done yet, so you can probably guess that the answer is not quite. \n",
    "We don't know the values of $W$ and $b$ yet! \n",
    "Remember how we initialized them randomly? \n",
    "Before we adjust any of the weights, we need a way to measure how the model is doing.\n",
    "Specifically, we're going to measure how badly the model is doing.\n",
    "We do this with a *loss* function, which takes the model's prediction and returns a single number (i.e. a scalar) summarizing model performance.\n",
    "This loss will inform how we adjust the parameters of the model.\n",
    "\n",
    "The loss we commonly use in classification is cross-entropy, a concept from information theory.\n",
    "Explaining exactly what the cross-entropy represents goes slightly beyond the scope of this course, but you can think of it as a way of quantifying how far apart one distribution $y'$ is from another $y$.\n",
    "\n",
    "\\begin{align}\n",
    "H_{y'}(y)=-\\sum_i y'_i \\text{log}(y_i)\n",
    "\\end{align}\n",
    "\n",
    "In our case, $y$ is the set of probabilities predicted by the model ($py$ above); $y'$ is the target distribution.\n",
    "What is the target distribution?\n",
    "It's the true label, which is what we wanted the model to predict.\n",
    "\n",
    "Cross-entropy not only captures how *correct* (max probability corresponds to the right answer) the model's answers are, it also accounts for how *confident* (high confidence in correct answers) they are. This encourages the model to produce very high probabilities for correct answers while driving down the probabilities for the wrong answers, instead of merely being satisfied with it being the argmax. \n",
    "\n",
    "We focus here on supervised learning, a setting in which we have the labels.\n",
    "Our `DataLoader` automatically includes the corresponding labels for each of our inputs.\n",
    "Here are the labels from the first time we retrieved a minibatch:"
   ]
  },
  {
   "cell_type": "code",
<<<<<<< HEAD
   "execution_count": 28,
=======
   "execution_count": 13,
>>>>>>> d3c9bc8231a6800f15f129837ab962b75b4ee53d
   "metadata": {},
   "outputs": [
    {
     "name": "stdout",
     "output_type": "stream",
     "text": [
      "torch.Size([100])\n"
     ]
    }
   ],
   "source": [
    "print(labels.shape)"
   ]
  },
  {
   "cell_type": "markdown",
   "metadata": {},
   "source": [
    "Like the softmax operation, we can implement the cross-entropy directly from the equation, using the softmax output.\n",
    "However, as with the softmax, `torch.nn.functional` already has the cross-entropy loss implemented as well."
   ]
  },
  {
   "cell_type": "code",
<<<<<<< HEAD
   "execution_count": 36,
=======
   "execution_count": 14,
>>>>>>> d3c9bc8231a6800f15f129837ab962b75b4ee53d
   "metadata": {},
   "outputs": [
    {
     "name": "stdout",
     "output_type": "stream",
     "text": [
<<<<<<< HEAD
      "cross entropy from equation: 2.3821537494659424\n",
      "cross entropy with torch.nn.functional.cross_entropy: 2.3821537494659424\n"
=======
      "cross entropy from equation: 2.456895112991333\n",
      "cross entropy with torch.nn.functional.cross_entropy: 2.456895351409912\n"
>>>>>>> d3c9bc8231a6800f15f129837ab962b75b4ee53d
     ]
    }
   ],
   "source": [
    "# Cross-entropy loss from equation\n",
    "cross_entropy_eq = torch.mean(-torch.log(py_eq)[range(labels.shape[0]),labels])\n",
    "print(\"cross entropy from equation: {}\".format(cross_entropy_eq))\n",
    "\n",
    "# Option 2: cross-entropy loss with torch.nn.functional\n",
    "cross_entropy = F.cross_entropy(y, labels)\n",
    "print(\"cross entropy with torch.nn.functional.cross_entropy: {}\".format(cross_entropy))"
   ]
  },
  {
   "cell_type": "markdown",
   "metadata": {},
   "source": [
    "Note that PyTorch's cross-entropy loss combines the softmax operator and cross-entropy into a single operation, for numerical stability reasons.\n",
    "Don't do the softmax twice!\n",
    "Make sure to feed in the pre-softmax logits `y`, not the post-softmax probabilities `py`."
   ]
  },
  {
   "cell_type": "markdown",
   "metadata": {},
   "source": [
    "#### The backwards pass\n",
    "\n",
    "Now that we have the loss as a way of quantifying how badly the model is doing, we can improve our model by changing the parameters in a way that minimizes the loss.\n",
    "For neural networks, the common way of doing this is with backpropagation: we take the gradient of the loss with respect to $W$ and $b$ and take a step in the direction that reduces our loss.\n",
    "\n",
    "If we were not using a deep learning framework like PyTorch, we would have to go through and derive all the gradients ourselves by hand, then code them into our program. \n",
    "We certainly still could.\n",
    "However, with modern auto-differentiation libraries, it's much faster and easier to let the computer do it.\n",
    "\n",
    "First, we need to create an optimizer.\n",
    "There are many choices, but since logistic regression is fairly simple, we'll use standard stochastic gradient descent (SGD), which makes the following update:\n",
    "\n",
    "\\begin{align}\n",
    "\\theta_{t+1} = \\theta_t - \\alpha \\nabla_\\theta \\mathcal{L}\n",
    "\\end{align}\n",
    "\n",
    "where $\\theta$ is a parameter, $\\alpha$ is our learning rate (step size), and $\\nabla_\\theta \\mathcal{L}$ is the gradient of our loss with respect to $\\theta$."
   ]
  },
  {
   "cell_type": "code",
<<<<<<< HEAD
   "execution_count": 37,
=======
   "execution_count": 15,
>>>>>>> d3c9bc8231a6800f15f129837ab962b75b4ee53d
   "metadata": {},
   "outputs": [],
   "source": [
    "# Optimizer\n",
<<<<<<< HEAD
    "optimizer = torch.optim.SGD([W,b], lr = 0.1) # lr = step size\n",
    "\n",
    "# wonder what backtracking would pick"
=======
    "optimizer = torch.optim.SGD([W, b], lr=0.1)"
>>>>>>> d3c9bc8231a6800f15f129837ab962b75b4ee53d
   ]
  },
  {
   "cell_type": "markdown",
   "metadata": {},
   "source": [
    "When we created our parameters $W$ and $b$, we indicated that they require gradients.\n",
    "To compute the gradients for $W$ and $b$, we call the `backward()` function on the cross-entropy loss."
   ]
  },
  {
   "cell_type": "code",
<<<<<<< HEAD
   "execution_count": 38,
=======
   "execution_count": 16,
>>>>>>> d3c9bc8231a6800f15f129837ab962b75b4ee53d
   "metadata": {},
   "outputs": [],
   "source": [
    "cross_entropy.backward()"
   ]
  },
  {
   "cell_type": "markdown",
   "metadata": {},
   "source": [
    "Each of the variables that required gradients have now accumulated gradients.\n",
    "We can see these for example on `b`:"
   ]
  },
  {
   "cell_type": "code",
<<<<<<< HEAD
   "execution_count": 39,
=======
   "execution_count": 17,
>>>>>>> d3c9bc8231a6800f15f129837ab962b75b4ee53d
   "metadata": {
    "scrolled": true
   },
   "outputs": [
    {
     "data": {
      "text/plain": [
<<<<<<< HEAD
       "tensor([-0.0301,  0.0313, -0.0048,  0.0171, -0.0307, -0.0005,  0.0054, -0.0112,\n",
       "         0.0493, -0.0258])"
      ]
     },
     "execution_count": 39,
=======
       "tensor([ 0.0089, -0.0385, -0.0088, -0.0332,  0.0011, -0.0114, -0.0453,  0.0948,\n",
       "        -0.0177,  0.0503])"
      ]
     },
     "execution_count": 17,
>>>>>>> d3c9bc8231a6800f15f129837ab962b75b4ee53d
     "metadata": {},
     "output_type": "execute_result"
    }
   ],
   "source": [
    "b.grad"
   ]
  },
  {
   "cell_type": "markdown",
   "metadata": {},
   "source": [
    "To apply the gradients, we could manually update $W$ and $b$ using the update rule $\\theta_{t+1} = \\theta_t - \\alpha \\nabla_\\theta \\mathcal{L}$, but since we have an optimizer, we can tell it to perform the update step for us:"
   ]
  },
  {
   "cell_type": "code",
<<<<<<< HEAD
   "execution_count": 40,
=======
   "execution_count": 18,
>>>>>>> d3c9bc8231a6800f15f129837ab962b75b4ee53d
   "metadata": {},
   "outputs": [],
   "source": [
    "optimizer.step()"
   ]
  },
  {
   "cell_type": "markdown",
   "metadata": {},
   "source": [
    "We set our learning rate to 0.1, so `b` has been updated by `-0.1*b.grad`:"
   ]
  },
  {
   "cell_type": "code",
<<<<<<< HEAD
   "execution_count": 41,
=======
   "execution_count": 19,
>>>>>>> d3c9bc8231a6800f15f129837ab962b75b4ee53d
   "metadata": {
    "scrolled": false
   },
   "outputs": [
    {
     "data": {
      "text/plain": [
<<<<<<< HEAD
       "tensor([ 3.0054e-03, -3.1269e-03,  4.8216e-04, -1.7082e-03,  3.0659e-03,\n",
       "         5.2146e-05, -5.4399e-04,  1.1229e-03, -4.9287e-03,  2.5792e-03],\n",
       "       requires_grad=True)"
      ]
     },
     "execution_count": 41,
=======
       "tensor([-0.0009,  0.0039,  0.0009,  0.0033, -0.0001,  0.0011,  0.0045, -0.0095,\n",
       "         0.0018, -0.0050], requires_grad=True)"
      ]
     },
     "execution_count": 19,
>>>>>>> d3c9bc8231a6800f15f129837ab962b75b4ee53d
     "metadata": {},
     "output_type": "execute_result"
    }
   ],
   "source": [
<<<<<<< HEAD
    "b\n",
    "# at this point we've done one learning step"
=======
    "b"
>>>>>>> d3c9bc8231a6800f15f129837ab962b75b4ee53d
   ]
  },
  {
   "cell_type": "markdown",
   "metadata": {},
   "source": [
    "We've now successfully trained on a minibatch!\n",
    "However, one minibatch probably isn't enough.\n",
    "At this point, we've trained the model on 100 examples out of the 60000 in the training set.\n",
    "We're going to need to repeat this process, for more of the data.\n",
    "\n",
    "One more thing to keep in mind though: gradients calculated by `backward()` don't override the old values; instead, they accumulate.\n",
    "Therefore, you'll want to clear the gradient buffers before you compute gradients for the next minibatch."
   ]
  },
  {
   "cell_type": "code",
<<<<<<< HEAD
   "execution_count": 44,
=======
   "execution_count": 20,
>>>>>>> d3c9bc8231a6800f15f129837ab962b75b4ee53d
   "metadata": {},
   "outputs": [
    {
     "name": "stdout",
     "output_type": "stream",
     "text": [
<<<<<<< HEAD
      "b.grad before zero_grad(): tensor([-0.0301,  0.0313, -0.0048,  0.0171, -0.0307, -0.0005,  0.0054, -0.0112,\n",
      "         0.0493, -0.0258])\n",
=======
      "b.grad before zero_grad(): tensor([ 0.0089, -0.0385, -0.0088, -0.0332,  0.0011, -0.0114, -0.0453,  0.0948,\n",
      "        -0.0177,  0.0503])\n",
>>>>>>> d3c9bc8231a6800f15f129837ab962b75b4ee53d
      "b.grad after zero_grad(): tensor([0., 0., 0., 0., 0., 0., 0., 0., 0., 0.])\n"
     ]
    }
   ],
   "source": [
    "print(\"b.grad before zero_grad(): {}\".format(b.grad))\n",
<<<<<<< HEAD
    "\n",
    "# clear the gradients\n",
    "optimizer.zero_grad()\n",
    "\n",
=======
    "optimizer.zero_grad()\n",
>>>>>>> d3c9bc8231a6800f15f129837ab962b75b4ee53d
    "print(\"b.grad after zero_grad(): {}\".format(b.grad))"
   ]
  },
  {
   "cell_type": "markdown",
   "metadata": {},
   "source": [
    "#### Model Training"
   ]
  },
  {
   "cell_type": "markdown",
   "metadata": {},
   "source": [
    "To train the model, we just need repeat what we just did for more minibatches from the training set.\n",
    "As a recap, the steps were:\n",
    "1. Draw a minibatch\n",
    "2. Zero the gradients in the buffers for `W` and `b`\n",
    "3. Perform the forward pass (compute prediction, calculate loss)\n",
    "4. Perform the backward pass (compute gradients, perform SGD step)\n",
    "\n",
    "Going through the entire dataset once is referred to as an epoch.\n",
    "In many cases, we train neural networks for multiple epochs, but here, a single epoch is enough.\n",
    "We also wrap the train_loader with `tqdm`.\n",
    "This isn't neccessary, but it adds a handy progress bar so we can track our training progress."
   ]
  },
  {
   "cell_type": "code",
<<<<<<< HEAD
   "execution_count": 47,
=======
   "execution_count": 21,
>>>>>>> d3c9bc8231a6800f15f129837ab962b75b4ee53d
   "metadata": {},
   "outputs": [
    {
     "data": {
      "application/vnd.jupyter.widget-view+json": {
<<<<<<< HEAD
       "model_id": "2060699a4bd04f709502129b5f1b2042",
=======
       "model_id": "0d213ee909fc4bb89a5e8bec077aa812",
>>>>>>> d3c9bc8231a6800f15f129837ab962b75b4ee53d
       "version_major": 2,
       "version_minor": 0
      },
      "text/plain": [
<<<<<<< HEAD
       "HBox(children=(IntProgress(value=0, max=600), HTML(value='')))"
=======
       "HBox(children=(FloatProgress(value=0.0, max=600.0), HTML(value='')))"
>>>>>>> d3c9bc8231a6800f15f129837ab962b75b4ee53d
      ]
     },
     "metadata": {},
     "output_type": "display_data"
    },
    {
     "name": "stdout",
     "output_type": "stream",
     "text": [
      "\n"
     ]
    }
   ],
   "source": [
    "# Iterate through train set minibatchs \n",
    "for images, labels in tqdm(train_loader):\n",
<<<<<<< HEAD
    "    # zero out the gradients\n",
    "    optimizer.zero_grad()\n",
    "    \n",
    "    # forward pass\n",
=======
    "    # Zero out the gradients\n",
    "    optimizer.zero_grad()\n",
    "    \n",
    "    # Forward pass\n",
>>>>>>> d3c9bc8231a6800f15f129837ab962b75b4ee53d
    "    x = images.view(-1, 28*28)\n",
    "    y = torch.matmul(x, W) + b\n",
    "    cross_entropy = F.cross_entropy(y, labels)\n",
    "    \n",
<<<<<<< HEAD
    "    # backward pass\n",
=======
    "    # Backward pass\n",
>>>>>>> d3c9bc8231a6800f15f129837ab962b75b4ee53d
    "    cross_entropy.backward()\n",
    "    optimizer.step()"
   ]
  },
  {
   "cell_type": "markdown",
   "metadata": {},
   "source": [
    "#### Testing"
   ]
  },
  {
   "cell_type": "markdown",
   "metadata": {},
   "source": [
    "Now let's see how we did! \n",
    "For every image in our test set, we run the data through the model, and take the digit in which we have the highest confidence as our answer. \n",
    "We then compute an accuracy by seeing how many we got correct.\n",
    "We're going to wrap evaluation with `torch.no_grad()`, as we're not interested in computing gradients during evaluation.\n",
    "By turning off the autograd engine, we can speed up evaluation."
   ]
  },
  {
   "cell_type": "code",
<<<<<<< HEAD
   "execution_count": 50,
=======
   "execution_count": 22,
>>>>>>> d3c9bc8231a6800f15f129837ab962b75b4ee53d
   "metadata": {},
   "outputs": [
    {
     "data": {
      "application/vnd.jupyter.widget-view+json": {
<<<<<<< HEAD
       "model_id": "49b7378569e7429fa9ac05411957e61d",
=======
       "model_id": "923408fcd3914759aac25869e9932089",
>>>>>>> d3c9bc8231a6800f15f129837ab962b75b4ee53d
       "version_major": 2,
       "version_minor": 0
      },
      "text/plain": [
<<<<<<< HEAD
       "HBox(children=(IntProgress(value=0), HTML(value='')))"
=======
       "HBox(children=(FloatProgress(value=0.0), HTML(value='')))"
>>>>>>> d3c9bc8231a6800f15f129837ab962b75b4ee53d
      ]
     },
     "metadata": {},
     "output_type": "display_data"
    },
    {
     "name": "stdout",
     "output_type": "stream",
     "text": [
      "\n",
<<<<<<< HEAD
      "Test accuracy: 0.9014000296592712\n"
=======
      "Test accuracy: 0.9028000235557556\n"
>>>>>>> d3c9bc8231a6800f15f129837ab962b75b4ee53d
     ]
    }
   ],
   "source": [
    "correct = 0\n",
    "total = len(mnist_test)\n",
    "\n",
    "with torch.no_grad():\n",
    "    # Iterate through test set minibatchs \n",
    "    for images, labels in tqdm(test_loader):\n",
<<<<<<< HEAD
    "\n",
    "        # Forward pass\n",
    "        x = images.view(-1, 28*28)\n",
    "        y = torch.matmul(x, W) + b\n",
    "\n",
    "        predictions = torch.argmax(y, dim = 1)\n",
=======
    "        # Forward pass\n",
    "        x = images.view(-1, 28*28)\n",
    "        y = torch.matmul(x, W) + b\n",
    "\n",
    "        predictions = torch.argmax(y, dim=1)\n",
>>>>>>> d3c9bc8231a6800f15f129837ab962b75b4ee53d
    "        correct += torch.sum((predictions == labels).float())\n",
    "    \n",
    "print('Test accuracy: {}'.format(correct/total))"
   ]
  },
  {
   "cell_type": "markdown",
   "metadata": {},
   "source": [
    "Not bad for a simple model and a few lines of code.\n",
    "Before we conclude this example, there's one more interesting thing we can do. \n",
    "Normally, it can be difficult to inspect exactly what the filters in a model are doing, but since this model is so simple, and the weights transform the data directly to their logits, we can actually visualize what the model's learning by simply plotting the weights. \n",
    "The results look pretty reasonable:"
   ]
  },
  {
   "cell_type": "code",
   "execution_count": 23,
   "metadata": {
    "scrolled": true
   },
   "outputs": [
    {
     "data": {
      "image/png": "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\n",
      "text/plain": [
       "<Figure size 1440x144 with 10 Axes>"
      ]
     },
     "metadata": {
      "needs_background": "light"
     },
     "output_type": "display_data"
    }
   ],
   "source": [
    "# Get weights\n",
    "fig, ax = plt.subplots(1, 10, figsize=(20, 2))\n",
    "\n",
    "for digit in range(10):\n",
    "    ax[digit].imshow(W[:,digit].detach().view(28,28), cmap='gray')"
   ]
  },
  {
   "cell_type": "markdown",
   "metadata": {},
   "source": [
    "As we can see, the model learned a template for each digit.\n",
    "Remember that our model takes a dot product between the weights of each digit and input.\n",
    "Therefore, the more the input matches the template for a digit, the higher the value of the dot product for that digit will be, which makes the model more likely to predict that digit."
   ]
  },
  {
   "cell_type": "markdown",
   "metadata": {},
   "source": [
    "#### The Full Code"
   ]
  },
  {
   "cell_type": "markdown",
   "metadata": {},
   "source": [
    "The entire model, with the complete model definition, training, and evaluation (but minus the weights visualization) as independently runable code:"
   ]
  },
  {
   "cell_type": "code",
   "execution_count": 24,
   "metadata": {},
   "outputs": [
    {
     "data": {
      "application/vnd.jupyter.widget-view+json": {
       "model_id": "defc83db1d4e4ea38875075ba892a447",
       "version_major": 2,
       "version_minor": 0
      },
      "text/plain": [
       "HBox(children=(FloatProgress(value=0.0, max=600.0), HTML(value='')))"
      ]
     },
     "metadata": {},
     "output_type": "display_data"
    },
    {
     "name": "stdout",
     "output_type": "stream",
     "text": [
      "\n"
     ]
    },
    {
     "data": {
      "application/vnd.jupyter.widget-view+json": {
       "model_id": "a244e86fbb294059aadd4d3921eafc64",
       "version_major": 2,
       "version_minor": 0
      },
      "text/plain": [
       "HBox(children=(FloatProgress(value=0.0), HTML(value='')))"
      ]
     },
     "metadata": {},
     "output_type": "display_data"
    },
    {
     "name": "stdout",
     "output_type": "stream",
     "text": [
      "\n",
      "Test accuracy: 0.9017999768257141\n"
     ]
    }
   ],
   "source": [
    "import numpy as np\n",
    "import torch\n",
    "import torch.nn.functional as F\n",
    "from torchvision import datasets, transforms\n",
    "from tqdm.notebook import tqdm\n",
    "\n",
    "# Load the data\n",
    "mnist_train = datasets.MNIST(root=\"./datasets\", train=True, transform=transforms.ToTensor(), download=True)\n",
    "mnist_test = datasets.MNIST(root=\"./datasets\", train=False, transform=transforms.ToTensor(), download=True)\n",
    "train_loader = torch.utils.data.DataLoader(mnist_train, batch_size=100, shuffle=True)\n",
    "test_loader = torch.utils.data.DataLoader(mnist_test, batch_size=100, shuffle=False)\n",
    "\n",
    "## Training\n",
    "# Initialize parameters\n",
    "W = torch.randn(784, 10)/np.sqrt(784)\n",
    "W.requires_grad_()\n",
    "b = torch.zeros(10, requires_grad=True)\n",
    "\n",
    "# Optimizer\n",
    "optimizer = torch.optim.SGD([W,b], lr=0.1)\n",
    "\n",
    "# Iterate through train set minibatchs \n",
    "for images, labels in tqdm(train_loader):\n",
    "    # Zero out the gradients\n",
    "    optimizer.zero_grad()\n",
    "    \n",
    "    # Forward pass\n",
    "    x = images.view(-1, 28*28)\n",
    "    y = torch.matmul(x, W) + b\n",
    "    cross_entropy = F.cross_entropy(y, labels)\n",
    "    # Backward pass\n",
    "    cross_entropy.backward()\n",
    "    optimizer.step()\n",
    "\n",
    "## Testing\n",
    "correct = 0\n",
    "total = len(mnist_test)\n",
    "\n",
    "with torch.no_grad():\n",
    "    # Iterate through test set minibatchs \n",
    "    for images, labels in tqdm(test_loader):\n",
    "        # Forward pass\n",
    "        x = images.view(-1, 28*28)\n",
    "        y = torch.matmul(x, W) + b\n",
    "        \n",
    "        predictions = torch.argmax(y, dim=1)\n",
    "        correct += torch.sum((predictions == labels).float())\n",
    "    \n",
    "print('Test accuracy: {}'.format(correct/total))"
   ]
  },
  {
   "cell_type": "markdown",
   "metadata": {},
   "source": [
    "Note: The accuracy from the full version directly above might return a slightly different test accuracy from the step-by-step version we first went through. \n",
    "We trained our model with stochastic gradient descent (SGD), with the word \"stochastic\" highlighting that training is an inherently random process."
   ]
  },
  {
   "cell_type": "markdown",
   "metadata": {},
   "source": [
    "### Higher level APIs"
   ]
  },
  {
   "cell_type": "markdown",
   "metadata": {},
   "source": [
    "So far, we've primarily been building neural networks with fairy basic PyTorch operations.\n",
    "We did this to provide a clearer picture of how models actually work and what's going on under the hood.\n",
    "This can be important as you're learning concepts and the various frameworks, and sometimes the low-level control is necessary if you're trying to build something novel.\n",
    "\n",
    "However, most of the time, we do find ourselves repeating the same fairly standard lines of code, which can slow us down. \n",
    "Worse, it clutters up our code unnecessarily and introduces room for bugs and typos.\n",
    "And finally, as researchers or engineers, we would like to spend most of our time thinking on the highest levels of abstractions: I want to add a convolution layer here, then a fully-connected there, etc.\n",
    "Having to code all the small details are distractions that can detract from our ability to translate ideas into code.\n",
    "For this reason, PyTorch has higher level abstractions to help speed up implementation and improve model organization.\n",
    "While there are many ways to organize PyTorch code, one common paradigm is with `torch.nn.Module`.\n",
    "\n",
    "#### Object-oriented Refactorization\n",
    "\n",
    "It often makes sense for us to code our models in an [object-oriented manner](https://realpython.com/python3-object-oriented-programming/).\n",
    "To understand why, let's look back at the linear transformation $y = xW + b$ that we used for logistic regression. \n",
    "We can see that while the operation consisted of a matrix multiplication and addition, also associated with this operation was the instantiation of two parameters `W` and `b`, and these two parameters conceptually *belong* to the transform.\n",
    "As such, it would make sense to bundle up the instantiation of the two parameters with the actual transformation:"
   ]
  },
  {
   "cell_type": "code",
<<<<<<< HEAD
   "execution_count": 51,
=======
   "execution_count": 25,
>>>>>>> d3c9bc8231a6800f15f129837ab962b75b4ee53d
   "metadata": {},
   "outputs": [],
   "source": [
    "# Note: illustrative example only; see below for torch.nn usage\n",
    "class xW_plus_b:\n",
    "    def __init__(self, dim_in, dim_out):\n",
    "        self.W = torch.randn(dim_in, dim_out)/np.sqrt(dim_in)\n",
    "        self.W.requires_grad_()\n",
<<<<<<< HEAD
    "        self.b = torch.zeros(dim_out, requires_grad = True)\n",
=======
    "        self.b = torch.zeros(dim_out, requires_grad=True)\n",
>>>>>>> d3c9bc8231a6800f15f129837ab962b75b4ee53d
    "        \n",
    "    def forward(self, x):\n",
    "        return torch.matmul(x, self.W) + self.b"
   ]
  },
  {
   "cell_type": "markdown",
   "metadata": {},
   "source": [
    "To use what we just wrote, we can create an `xW_plus_b` instance using its `__init__()` method (the constructor).\n",
    "In this case, we're going to set the dimensions to be 784 and 10, as we did in our logisitic regression example above.\n",
    "This creates an `xW_plus_b` instance with two parameters `W` and `b`."
   ]
  },
  {
   "cell_type": "code",
<<<<<<< HEAD
   "execution_count": 53,
=======
   "execution_count": 26,
>>>>>>> d3c9bc8231a6800f15f129837ab962b75b4ee53d
   "metadata": {},
   "outputs": [
    {
     "name": "stdout",
     "output_type": "stream",
     "text": [
<<<<<<< HEAD
      "W: tensor([[ 0.0201, -0.0719,  0.0385,  ..., -0.0137, -0.0502, -0.0075],\n",
      "        [ 0.0501,  0.0385,  0.0274,  ..., -0.0505, -0.0506, -0.0220],\n",
      "        [ 0.0459, -0.0154,  0.0082,  ..., -0.0717, -0.0196,  0.0020],\n",
      "        ...,\n",
      "        [-0.0562,  0.0461, -0.0124,  ..., -0.0614,  0.0741,  0.0139],\n",
      "        [ 0.0260, -0.0104, -0.0436,  ..., -0.0374, -0.0027, -0.0369],\n",
      "        [ 0.0371, -0.0568, -0.0218,  ..., -0.0033,  0.0424, -0.0193]],\n",
=======
      "W: tensor([[-0.0204,  0.0369, -0.0141,  ..., -0.0647,  0.0229,  0.0335],\n",
      "        [ 0.0118, -0.0160, -0.0342,  ...,  0.0504,  0.0399, -0.0196],\n",
      "        [ 0.0323, -0.0253,  0.0236,  ...,  0.0327,  0.0519, -0.0086],\n",
      "        ...,\n",
      "        [-0.0675,  0.0011,  0.0536,  ...,  0.0018,  0.0111,  0.0967],\n",
      "        [ 0.0055, -0.0169, -0.0453,  ..., -0.0362,  0.0018,  0.0023],\n",
      "        [ 0.0294,  0.0059,  0.0066,  ...,  0.0524, -0.0661,  0.0011]],\n",
>>>>>>> d3c9bc8231a6800f15f129837ab962b75b4ee53d
      "       requires_grad=True)\n",
      "b: tensor([0., 0., 0., 0., 0., 0., 0., 0., 0., 0.], requires_grad=True)\n"
     ]
    }
   ],
   "source": [
    "# Note: illustrative example only; see below for torch.nn usage\n",
    "lin_custom = xW_plus_b(784, 10)\n",
    "\n",
    "print(\"W: {}\".format(lin_custom.W))\n",
    "print(\"b: {}\".format(lin_custom.b))"
   ]
  },
  {
   "cell_type": "markdown",
   "metadata": {},
   "source": [
    "After instantiating the instance, we can perform the actual linear transform of our custom `xW_plus_b` class by calling the instance's `forward()` function:"
   ]
  },
  {
   "cell_type": "code",
<<<<<<< HEAD
   "execution_count": 55,
=======
   "execution_count": 27,
>>>>>>> d3c9bc8231a6800f15f129837ab962b75b4ee53d
   "metadata": {},
   "outputs": [
    {
     "name": "stdout",
     "output_type": "stream",
     "text": [
      "torch.Size([1, 10])\n"
     ]
    }
   ],
   "source": [
    "# Note: illustrative example only; see below for torch.nn usage\n",
    "x_rand = torch.randn(1, 784)\n",
    "y = lin_custom.forward(x_rand)\n",
<<<<<<< HEAD
    "\n",
=======
>>>>>>> d3c9bc8231a6800f15f129837ab962b75b4ee53d
    "print(y.shape)"
   ]
  },
  {
   "cell_type": "markdown",
   "metadata": {},
   "source": [
    "#### Using  `torch.nn`\n",
    "\n",
    "While we can certainly implement our own classes for the operations we'd like to use, we don't have to, as PyTorch already has them in the `torch.nn` sublibrary. "
   ]
  },
  {
   "cell_type": "code",
<<<<<<< HEAD
   "execution_count": 59,
   "metadata": {},
   "outputs": [],
   "source": [
    "import torch.nn as nn\n",
    "lin = nn.Linear(784, 10)"
=======
   "execution_count": 28,
   "metadata": {},
   "outputs": [],
   "source": [
    "import torch.nn as nn"
>>>>>>> d3c9bc8231a6800f15f129837ab962b75b4ee53d
   ]
  },
  {
   "cell_type": "markdown",
   "metadata": {},
   "source": [
    "For example, the linear transform example we just went through is called `torch.nn.Linear`:"
   ]
  },
  {
   "cell_type": "code",
<<<<<<< HEAD
   "execution_count": 60,
=======
   "execution_count": 29,
>>>>>>> d3c9bc8231a6800f15f129837ab962b75b4ee53d
   "metadata": {},
   "outputs": [
    {
     "name": "stdout",
     "output_type": "stream",
     "text": [
      "Linear parameters: [torch.Size([10, 784]), torch.Size([10])]\n",
<<<<<<< HEAD
      "\n"
=======
      "torch.Size([1, 10])\n"
>>>>>>> d3c9bc8231a6800f15f129837ab962b75b4ee53d
     ]
    }
   ],
   "source": [
    "lin = nn.Linear(784, 10)\n",
    "print(\"Linear parameters: {}\".format([p.shape for p in lin.parameters()]))\n",
    "\n",
<<<<<<< HEAD
    "print(\"Linear parameters: {}\".format([p.shape for p in lin.parameters()]))\n",
    "\n",
    "\n",
    "print()"
=======
    "y = lin(x_rand)\n",
    "print(y.shape)"
>>>>>>> d3c9bc8231a6800f15f129837ab962b75b4ee53d
   ]
  },
  {
   "cell_type": "markdown",
   "metadata": {},
   "source": [
    "The implementation for `nn.Linear` has a few more things under the hood (notice for example that the `forward()` function is aliased with calling the instance itself), but in spirit, it operates in much the same way as our custom `xW_plus_b` class.\n",
    "In the first line, we instantiate a `Linear` object, which automatically creates weight and bias variables of the specified dimensions.\n",
    "The fourth line then calls the `forward()` function (aliased with the object call), which performs the linear transformation."
   ]
  },
  {
   "cell_type": "markdown",
   "metadata": {},
   "source": [
    "#### Using `torch.nn.Module`\n",
    "\n",
    "The `torch.nn.Linear` class we just saw is a subclass of `torch.nn.Module`.\n",
    "However, `Module`s do not have to just describe a single operation; they can also define a chain of operations, each of which may also be `Module`s.\n",
    "As such, we can place our entire neural network within a `Module`.\n",
    "In this case, the module can track all of its associated parameters, some of which may also be associated with a submodule (e.g. `nn.Linear`), while also defining the `forward()` function, in one place."
   ]
  },
  {
   "cell_type": "code",
<<<<<<< HEAD
   "execution_count": 63,
=======
   "execution_count": 30,
>>>>>>> d3c9bc8231a6800f15f129837ab962b75b4ee53d
   "metadata": {},
   "outputs": [],
   "source": [
    "class MNIST_Logistic_Regression(nn.Module):\n",
    "    def __init__(self):\n",
    "        super().__init__()\n",
    "        self.lin = nn.Linear(784, 10)\n",
<<<<<<< HEAD
    "        \n",
=======
    "\n",
>>>>>>> d3c9bc8231a6800f15f129837ab962b75b4ee53d
    "    def forward(self, x):\n",
    "        return self.lin(x)"
   ]
  },
  {
   "cell_type": "markdown",
   "metadata": {},
   "source": [
    "In this particular example, we didn't need to chain any operations, but we'll see this come in handy as we move on to more complex models.\n",
    "Additionally, the `nn.Module` that we subclassed has a few other nice features.\n",
    "For example:\n",
    "- The `forward()` function of a `nn.Module` will call the `forward()` function of any child `nn.Module`s.\n",
    "- `print()` will print out a formatted summary of our model, recursively summarizing any child `nn.Module`s as well.\n",
    "- The `parameters()` function will return a generator that returns all parameters of a `nn.Module` (including those of any children)."
   ]
  },
  {
   "cell_type": "code",
<<<<<<< HEAD
   "execution_count": 65,
=======
   "execution_count": 31,
>>>>>>> d3c9bc8231a6800f15f129837ab962b75b4ee53d
   "metadata": {},
   "outputs": [
    {
     "name": "stdout",
     "output_type": "stream",
     "text": [
      "The model: \n",
      "MNIST_Logistic_Regression(\n",
      "  (lin): Linear(in_features=784, out_features=10, bias=True)\n",
      ")\n",
      "\n",
      "Parameters: \n",
      "[Parameter containing:\n",
<<<<<<< HEAD
      "tensor([[ 2.9238e-02,  2.3036e-02, -2.9069e-02,  ..., -3.2704e-02,\n",
      "          8.7666e-03, -2.7972e-02],\n",
      "        [-8.7706e-04,  1.4145e-02,  1.3720e-02,  ..., -2.0718e-02,\n",
      "          3.0603e-02,  5.9641e-03],\n",
      "        [ 2.7913e-02, -2.0312e-02, -2.7447e-02,  ..., -4.9071e-04,\n",
      "          3.4300e-02,  1.8052e-02],\n",
      "        ...,\n",
      "        [ 2.5135e-02,  3.3005e-02,  3.2922e-02,  ...,  5.2828e-05,\n",
      "          2.7925e-02, -1.7013e-02],\n",
      "        [ 1.9349e-02, -1.7454e-03,  2.6484e-02,  ...,  2.8577e-02,\n",
      "          1.1183e-02, -2.0611e-02],\n",
      "        [-2.9097e-02,  2.2864e-02,  2.7373e-02,  ...,  1.9775e-02,\n",
      "         -6.3255e-03, -6.4681e-03]], requires_grad=True), Parameter containing:\n",
      "tensor([ 0.0201,  0.0217, -0.0064, -0.0312,  0.0204, -0.0156, -0.0270, -0.0033,\n",
      "        -0.0347, -0.0177], requires_grad=True)]\n",
=======
      "tensor([[-0.0260, -0.0339,  0.0036,  ...,  0.0292, -0.0054, -0.0018],\n",
      "        [ 0.0164, -0.0103,  0.0076,  ...,  0.0111,  0.0288, -0.0227],\n",
      "        [ 0.0346,  0.0064,  0.0101,  ...,  0.0210,  0.0150, -0.0212],\n",
      "        ...,\n",
      "        [-0.0158,  0.0316,  0.0034,  ..., -0.0340,  0.0319,  0.0103],\n",
      "        [ 0.0118, -0.0037, -0.0087,  ..., -0.0198,  0.0216,  0.0331],\n",
      "        [-0.0214, -0.0333,  0.0285,  ..., -0.0253, -0.0344,  0.0293]],\n",
      "       requires_grad=True), Parameter containing:\n",
      "tensor([-0.0258, -0.0221,  0.0052,  0.0006, -0.0323,  0.0235,  0.0324,  0.0099,\n",
      "        -0.0293, -0.0178], requires_grad=True)]\n",
>>>>>>> d3c9bc8231a6800f15f129837ab962b75b4ee53d
      "\n",
      "Output shape: \n",
      "torch.Size([1, 10])\n"
     ]
    }
   ],
   "source": [
    "model = MNIST_Logistic_Regression()\n",
    "y = model(x_rand)\n",
<<<<<<< HEAD
    "\n",
=======
>>>>>>> d3c9bc8231a6800f15f129837ab962b75b4ee53d
    "\n",
    "print(\"The model: \\n{}\".format(model))\n",
    "print(\"\\nParameters: \\n{}\".format(list(model.parameters())))\n",
    "print(\"\\nOutput shape: \\n{}\".format(y.shape))"
   ]
  },
  {
   "cell_type": "markdown",
   "metadata": {},
   "source": [
    "#### Full code with `nn.Module`\n",
    "\n",
    "Refactoring our previous complete logistic regression code to use a `nn.Module`:"
   ]
  },
  {
   "cell_type": "code",
   "execution_count": 32,
   "metadata": {},
   "outputs": [
    {
     "data": {
      "application/vnd.jupyter.widget-view+json": {
       "model_id": "933e074b71be43eb8360fe8adfdc8ebe",
       "version_major": 2,
       "version_minor": 0
      },
      "text/plain": [
       "HBox(children=(FloatProgress(value=0.0, max=600.0), HTML(value='')))"
      ]
     },
     "metadata": {},
     "output_type": "display_data"
    },
    {
     "name": "stdout",
     "output_type": "stream",
     "text": [
      "\n"
     ]
    },
    {
     "data": {
      "application/vnd.jupyter.widget-view+json": {
       "model_id": "add02ad14fb84a52b7c910a4b40e8ad1",
       "version_major": 2,
       "version_minor": 0
      },
      "text/plain": [
       "HBox(children=(FloatProgress(value=0.0), HTML(value='')))"
      ]
     },
     "metadata": {},
     "output_type": "display_data"
    },
    {
     "name": "stdout",
     "output_type": "stream",
     "text": [
      "\n",
      "Test accuracy: 0.9039999842643738\n"
     ]
    }
   ],
   "source": [
    "import numpy as np\n",
    "import torch\n",
    "import torch.nn as nn\n",
    "import torch.nn.functional as F\n",
    "from torchvision import datasets, transforms\n",
    "from tqdm.notebook import tqdm\n",
    "\n",
    "class MNIST_Logistic_Regression(nn.Module):\n",
    "    def __init__(self):\n",
    "        super().__init__()\n",
    "        self.lin = nn.Linear(784, 10)\n",
    "\n",
    "    def forward(self, x):\n",
    "        return self.lin(x)\n",
    "\n",
    "# Load the data\n",
    "mnist_train = datasets.MNIST(root=\"./datasets\", train=True, transform=transforms.ToTensor(), download=True)\n",
    "mnist_test = datasets.MNIST(root=\"./datasets\", train=False, transform=transforms.ToTensor(), download=True)\n",
    "train_loader = torch.utils.data.DataLoader(mnist_train, batch_size=100, shuffle=True)\n",
    "test_loader = torch.utils.data.DataLoader(mnist_test, batch_size=100, shuffle=False)\n",
    "\n",
    "## Training\n",
    "# Instantiate model\n",
    "model = MNIST_Logistic_Regression()\n",
    "\n",
    "# Loss and Optimizer\n",
    "criterion = nn.CrossEntropyLoss()\n",
    "optimizer = torch.optim.SGD(model.parameters(), lr=0.1)\n",
    "\n",
    "# Iterate through train set minibatchs \n",
    "for images, labels in tqdm(train_loader):\n",
    "    # Zero out the gradients\n",
    "    optimizer.zero_grad()\n",
    "    \n",
    "    # Forward pass\n",
    "    x = images.view(-1, 28*28)\n",
    "    y = model(x)\n",
    "    loss = criterion(y, labels)\n",
    "    # Backward pass\n",
    "    loss.backward()\n",
    "    optimizer.step()\n",
    "\n",
    "## Testing\n",
    "correct = 0\n",
    "total = len(mnist_test)\n",
    "\n",
    "with torch.no_grad():\n",
    "    # Iterate through test set minibatchs \n",
    "    for images, labels in tqdm(test_loader):\n",
    "        # Forward pass\n",
    "        x = images.view(-1, 28*28)\n",
    "        y = model(x)\n",
    "        \n",
    "        predictions = torch.argmax(y, dim=1)\n",
    "        correct += torch.sum((predictions == labels).float())\n",
    "    \n",
    "print('Test accuracy: {}'.format(correct/total))"
   ]
  },
  {
   "cell_type": "markdown",
   "metadata": {},
   "source": [
    "While the benefits of organizing a model as a `nn.Module` may not be as obvious for a simple logistic regression model, such a programming style allows for much quicker and cleaner implementations for more complex models, as we'll see in later notebooks."
   ]
  }
 ],
 "metadata": {
  "kernelspec": {
   "display_name": "Python 3",
   "language": "python",
   "name": "python3"
  },
  "language_info": {
   "codemirror_mode": {
    "name": "ipython",
    "version": 3
   },
   "file_extension": ".py",
   "mimetype": "text/x-python",
   "name": "python",
   "nbconvert_exporter": "python",
   "pygments_lexer": "ipython3",
   "version": "3.7.4"
  },
  "widgets": {
   "application/vnd.jupyter.widget-state+json": {
    "state": {
     "00ab3361f9b948b48b0976623b0a83a7": {
      "model_module": "@jupyter-widgets/base",
      "model_module_version": "1.2.0",
      "model_name": "LayoutModel",
      "state": {}
     },
     "00b11bd242e84c3f9ca4de87144b4e09": {
      "model_module": "@jupyter-widgets/controls",
      "model_module_version": "1.5.0",
      "model_name": "ProgressStyleModel",
      "state": {
       "description_width": "initial"
      }
     },
     "0177be8217164d03ad9144dc2e610f64": {
      "model_module": "@jupyter-widgets/base",
      "model_module_version": "1.2.0",
      "model_name": "LayoutModel",
      "state": {}
     },
     "03770380477d40069927db8dba2ecc34": {
      "model_module": "@jupyter-widgets/controls",
      "model_module_version": "1.5.0",
      "model_name": "DescriptionStyleModel",
      "state": {
       "description_width": ""
      }
     },
     "04a01f520eaf4d1a8ebc8689fc58c824": {
      "model_module": "@jupyter-widgets/controls",
      "model_module_version": "1.5.0",
      "model_name": "HTMLModel",
      "state": {
       "layout": "IPY_MODEL_26d5c364d9f04653ac0ae8767c252a89",
       "style": "IPY_MODEL_5081bd58b2c548079ae99dce7948daa1",
       "value": " 600/600 [00:19&lt;00:00, 30.41it/s]"
      }
     },
     "0645f6470aad4651bab08c97952a0a24": {
      "model_module": "@jupyter-widgets/controls",
      "model_module_version": "1.5.0",
      "model_name": "HBoxModel",
      "state": {
       "children": [
        "IPY_MODEL_55001bfcd7dd4a0db1f8170c55fc99a9",
        "IPY_MODEL_04a01f520eaf4d1a8ebc8689fc58c824"
       ],
       "layout": "IPY_MODEL_f045f24016f5412696ccd4d42d3ac4a6"
      }
     },
     "070afb362477408c98244dcab5f6f78d": {
      "model_module": "@jupyter-widgets/controls",
      "model_module_version": "1.5.0",
      "model_name": "HTMLModel",
      "state": {
       "layout": "IPY_MODEL_5ebbf75c554e4ada93d74270c4550786",
       "style": "IPY_MODEL_3258e34f678f45839bdea8d59f2aa1c3",
       "value": " 100/100 [00:02&lt;00:00, 46.13it/s]"
      }
     },
     "07f7dd1a4f084e998b41e87c40df6329": {
      "model_module": "@jupyter-widgets/controls",
      "model_module_version": "1.5.0",
      "model_name": "DescriptionStyleModel",
      "state": {
       "description_width": ""
      }
     },
     "08127475b3c0456db3db286c913b7271": {
      "model_module": "@jupyter-widgets/controls",
      "model_module_version": "1.5.0",
      "model_name": "ProgressStyleModel",
      "state": {
       "description_width": "initial"
      }
     },
     "0932d5c51b9b43eb96c0de08e3f7912d": {
      "model_module": "@jupyter-widgets/controls",
      "model_module_version": "1.5.0",
      "model_name": "IntProgressModel",
      "state": {
       "bar_style": "success",
       "description": "100%",
       "layout": "IPY_MODEL_70837d601e064314987516a48f246429",
       "max": 600,
       "style": "IPY_MODEL_d47fa458994a4c2d9922b6daf4779539",
       "value": 600
      }
     },
     "0b73de309f0e4622960445b5e67b0f23": {
      "model_module": "@jupyter-widgets/controls",
      "model_module_version": "1.5.0",
      "model_name": "DescriptionStyleModel",
      "state": {
       "description_width": ""
      }
     },
     "0b90a0686fef47dc8985949c412ebf43": {
      "model_module": "@jupyter-widgets/controls",
      "model_module_version": "1.5.0",
      "model_name": "IntProgressModel",
      "state": {
       "bar_style": "success",
       "description": "100%",
       "layout": "IPY_MODEL_53ae2d18383a43ebb7a2327b62efdbfe",
       "style": "IPY_MODEL_7e87dbe6f0484a6d891c4359f362f2ba",
       "value": 100
      }
     },
     "0c18433b48ac4be0b0e037d5be0c63f8": {
      "model_module": "@jupyter-widgets/base",
      "model_module_version": "1.2.0",
      "model_name": "LayoutModel",
      "state": {}
     },
     "0d213ee909fc4bb89a5e8bec077aa812": {
      "model_module": "@jupyter-widgets/controls",
      "model_module_version": "1.5.0",
      "model_name": "HBoxModel",
      "state": {
       "children": [
        "IPY_MODEL_a041a92e25774d98abdc431e2efd775a",
        "IPY_MODEL_2cfcac493bc642da95bd28060ef7fd1d"
       ],
       "layout": "IPY_MODEL_8eead517aa514ed2a9e25df04f297a67"
      }
     },
     "0dbce132f8a2478b897a85759e59241a": {
      "model_module": "@jupyter-widgets/base",
      "model_module_version": "1.2.0",
      "model_name": "LayoutModel",
      "state": {}
     },
     "0dcf2e7c51d04f5da15ede8dd49f0eac": {
      "model_module": "@jupyter-widgets/controls",
      "model_module_version": "1.5.0",
      "model_name": "DescriptionStyleModel",
      "state": {
       "description_width": ""
      }
     },
     "1110c89bcb7948b8a4081f188c8f053f": {
      "model_module": "@jupyter-widgets/base",
      "model_module_version": "1.2.0",
      "model_name": "LayoutModel",
      "state": {}
     },
     "12103e9b32b9465dad4870cebdf41a19": {
      "model_module": "@jupyter-widgets/controls",
      "model_module_version": "1.5.0",
      "model_name": "ProgressStyleModel",
      "state": {
       "description_width": "initial"
      }
     },
     "139a26066e2a453a92a5741ac7440a3f": {
      "model_module": "@jupyter-widgets/controls",
      "model_module_version": "1.5.0",
      "model_name": "ProgressStyleModel",
      "state": {
       "description_width": "initial"
      }
     },
     "15218dabf7004c6186cdf1a077114a67": {
      "model_module": "@jupyter-widgets/controls",
      "model_module_version": "1.5.0",
      "model_name": "DescriptionStyleModel",
      "state": {
       "description_width": ""
      }
     },
     "1529183ff7ec4da283de68d8c1c0479a": {
      "model_module": "@jupyter-widgets/base",
      "model_module_version": "1.2.0",
      "model_name": "LayoutModel",
      "state": {}
     },
     "19ad38959222414cab16faf7bd42713f": {
      "model_module": "@jupyter-widgets/controls",
      "model_module_version": "1.5.0",
      "model_name": "IntProgressModel",
      "state": {
       "bar_style": "success",
       "description": "100%",
       "layout": "IPY_MODEL_ab3028b53595467b92c4906fb61ba183",
       "max": 600,
       "style": "IPY_MODEL_22d2a9019d9c4417883d571b24405d10",
       "value": 600
      }
     },
     "1cb1d5db956f4c1599f362159649c5cb": {
      "model_module": "@jupyter-widgets/controls",
      "model_module_version": "1.5.0",
      "model_name": "ProgressStyleModel",
      "state": {
       "description_width": "initial"
      }
     },
     "1dfd902123c54bd2a6a9d0fc648c5482": {
      "model_module": "@jupyter-widgets/controls",
      "model_module_version": "1.5.0",
      "model_name": "ProgressStyleModel",
      "state": {
       "description_width": "initial"
      }
     },
     "1e340c6bb86f4a068e41cbb423949885": {
      "model_module": "@jupyter-widgets/controls",
      "model_module_version": "1.5.0",
      "model_name": "HBoxModel",
      "state": {
       "children": [
        "IPY_MODEL_19ad38959222414cab16faf7bd42713f",
        "IPY_MODEL_d1e25145f12b42a3be57a6aace611870"
       ],
       "layout": "IPY_MODEL_6029a556c8d543f9929a6e553bf4a9a5"
      }
     },
     "1e442688920f4c54bc43273f7b2b7b66": {
      "model_module": "@jupyter-widgets/controls",
      "model_module_version": "1.5.0",
      "model_name": "HTMLModel",
      "state": {
       "layout": "IPY_MODEL_b93c66637fc64d688bd063a9209b79e3",
       "style": "IPY_MODEL_c70a9240175b4c209fd149f57dd07fba",
       "value": " 600/600 [46:03&lt;00:00,  4.61s/it]"
      }
     },
     "1ebda3e2449a4577be0b36950eff50ae": {
      "model_module": "@jupyter-widgets/controls",
      "model_module_version": "1.5.0",
      "model_name": "HBoxModel",
      "state": {
       "children": [
        "IPY_MODEL_cd4ee4fec9a845c3a17cbc5516345a56",
        "IPY_MODEL_a52554c238f84cefa9e52f4ea05c75e7"
       ],
       "layout": "IPY_MODEL_e3e090911b134c2f9f59b1f8cdddcf4b"
      }
     },
     "21606ea13c9c4afa8ef95cd727230bdc": {
      "model_module": "@jupyter-widgets/base",
      "model_module_version": "1.2.0",
      "model_name": "LayoutModel",
      "state": {}
     },
     "2225032c9d3340b5a6dbc0cdfe7b7f27": {
      "model_module": "@jupyter-widgets/controls",
      "model_module_version": "1.5.0",
      "model_name": "DescriptionStyleModel",
      "state": {
       "description_width": ""
      }
     },
     "22d2a9019d9c4417883d571b24405d10": {
      "model_module": "@jupyter-widgets/controls",
      "model_module_version": "1.5.0",
      "model_name": "ProgressStyleModel",
      "state": {
       "description_width": "initial"
      }
     },
     "22dedf5d1fee4ebd87e98481abd7edaf": {
      "model_module": "@jupyter-widgets/base",
      "model_module_version": "1.2.0",
      "model_name": "LayoutModel",
      "state": {}
     },
     "240360977422488e8b422e49a837302a": {
      "model_module": "@jupyter-widgets/controls",
      "model_module_version": "1.5.0",
      "model_name": "HTMLModel",
      "state": {
       "layout": "IPY_MODEL_4effd6c2df37488b959fc5a7d9616574",
       "style": "IPY_MODEL_2225032c9d3340b5a6dbc0cdfe7b7f27",
       "value": " 100/100 [01:51&lt;00:00,  1.11s/it]"
      }
     },
     "243d640bee804e1eba736ebb83ba8252": {
      "model_module": "@jupyter-widgets/controls",
      "model_module_version": "1.5.0",
      "model_name": "HTMLModel",
      "state": {
       "layout": "IPY_MODEL_0177be8217164d03ad9144dc2e610f64",
       "style": "IPY_MODEL_15218dabf7004c6186cdf1a077114a67",
       "value": " 600/600 [00:20&lt;00:00, 28.81it/s]"
      }
     },
     "258c7796504a4df9a0fc67c989e7638e": {
      "model_module": "@jupyter-widgets/base",
      "model_module_version": "1.2.0",
      "model_name": "LayoutModel",
      "state": {}
     },
     "25f6dea15b0448fd941133106d8d1d37": {
      "model_module": "@jupyter-widgets/controls",
      "model_module_version": "1.5.0",
      "model_name": "ProgressStyleModel",
      "state": {
       "description_width": "initial"
      }
     },
     "26d5c364d9f04653ac0ae8767c252a89": {
      "model_module": "@jupyter-widgets/base",
      "model_module_version": "1.2.0",
      "model_name": "LayoutModel",
      "state": {}
     },
     "28859aee2b35402d9a371a808b0f77af": {
      "model_module": "@jupyter-widgets/controls",
      "model_module_version": "1.5.0",
      "model_name": "DescriptionStyleModel",
      "state": {
       "description_width": ""
      }
     },
     "29ba0b691a6e4ca18d720e23fffd4011": {
      "model_module": "@jupyter-widgets/controls",
      "model_module_version": "1.5.0",
      "model_name": "FloatProgressModel",
      "state": {
       "bar_style": "success",
       "description": "100%",
       "layout": "IPY_MODEL_99b01a10f9c8459c9c54a4c3ad789113",
       "max": 600,
       "style": "IPY_MODEL_4e667c6c267445c3a0c622dacbafb07d",
       "value": 600
      }
     },
     "2cfcac493bc642da95bd28060ef7fd1d": {
      "model_module": "@jupyter-widgets/controls",
      "model_module_version": "1.5.0",
      "model_name": "HTMLModel",
      "state": {
       "layout": "IPY_MODEL_3e1904d8d38441b1b4a544d8f5da6421",
       "style": "IPY_MODEL_07f7dd1a4f084e998b41e87c40df6329",
       "value": " 600/600 [00:24&lt;00:00, 24.22it/s]"
      }
     },
     "2eaf4fe1f3e14c0f81e81214ccc44f23": {
      "model_module": "@jupyter-widgets/base",
      "model_module_version": "1.2.0",
      "model_name": "LayoutModel",
      "state": {}
     },
     "30309ea05c174448943ecb5ba92ae0e5": {
      "model_module": "@jupyter-widgets/base",
      "model_module_version": "1.2.0",
      "model_name": "LayoutModel",
      "state": {}
     },
     "312e9fe46c29463999edfd8af1ade5b9": {
      "model_module": "@jupyter-widgets/controls",
      "model_module_version": "1.5.0",
      "model_name": "IntProgressModel",
      "state": {
       "bar_style": "success",
       "description": "100%",
       "layout": "IPY_MODEL_6dadd75dd8224017a21fea4302e957aa",
       "style": "IPY_MODEL_a4d777e8f0994329912efaab8f50d747",
       "value": 100
      }
     },
     "32573ae0a0994795afeb305e38ba5402": {
      "model_module": "@jupyter-widgets/controls",
      "model_module_version": "1.5.0",
      "model_name": "ProgressStyleModel",
      "state": {
       "description_width": "initial"
      }
     },
     "3258e34f678f45839bdea8d59f2aa1c3": {
      "model_module": "@jupyter-widgets/controls",
      "model_module_version": "1.5.0",
      "model_name": "DescriptionStyleModel",
      "state": {
       "description_width": ""
      }
     },
     "32e9a047ea3a41439e5d83ecc5310ddb": {
      "model_module": "@jupyter-widgets/controls",
      "model_module_version": "1.5.0",
      "model_name": "HTMLModel",
      "state": {
       "layout": "IPY_MODEL_a52ede1b19f84fa1887ca5c33686b97e",
       "style": "IPY_MODEL_acd64aff4bd24ec49aef585414303fab",
       "value": " 100/100 [00:02&lt;00:00, 35.70it/s]"
      }
     },
     "33724df2f1a3433bbb26aa18bc88b126": {
      "model_module": "@jupyter-widgets/controls",
      "model_module_version": "1.5.0",
      "model_name": "IntProgressModel",
      "state": {
       "bar_style": "success",
       "description": "100%",
       "layout": "IPY_MODEL_e1d28e912a1d40d8890d9946c1f86981",
       "style": "IPY_MODEL_cabcc13852074e07a8d322cd99f24e5e",
       "value": 100
      }
     },
     "3877f7bc979a4999a78e0ca12a2efd2f": {
      "model_module": "@jupyter-widgets/controls",
      "model_module_version": "1.5.0",
      "model_name": "HTMLModel",
      "state": {
       "layout": "IPY_MODEL_fb696dfe7bae4a00b375d9c7c6053293",
       "style": "IPY_MODEL_42473977bd5248308eca1210a128bdae",
       "value": " 100/100 [00:01&lt;00:00, 52.80it/s]"
      }
     },
     "3a93655d2d224fcf954502d9b2676711": {
      "model_module": "@jupyter-widgets/controls",
      "model_module_version": "1.5.0",
      "model_name": "FloatProgressModel",
      "state": {
       "bar_style": "success",
       "description": "100%",
       "layout": "IPY_MODEL_e2f1e64f80f34596b8b01ce372318c91",
       "max": 600,
       "style": "IPY_MODEL_a7904028f3dd4922a5e815f609898255",
       "value": 600
      }
     },
     "3bf1ea9535ad49c189eafc90c872c079": {
      "model_module": "@jupyter-widgets/controls",
      "model_module_version": "1.5.0",
      "model_name": "DescriptionStyleModel",
      "state": {
       "description_width": ""
      }
     },
     "3e1904d8d38441b1b4a544d8f5da6421": {
      "model_module": "@jupyter-widgets/base",
      "model_module_version": "1.2.0",
      "model_name": "LayoutModel",
      "state": {}
     },
     "3fb68c76bf324354ad9107041d03ecd7": {
      "model_module": "@jupyter-widgets/controls",
      "model_module_version": "1.5.0",
      "model_name": "FloatProgressModel",
      "state": {
       "bar_style": "success",
       "description": "100%",
       "layout": "IPY_MODEL_5a56523082f64d1f87a176df5fb4ea70",
       "style": "IPY_MODEL_60822cf6904c4c5783ea10b340ce5d25",
       "value": 100
      }
     },
     "4112ba3474384d839e66ffaaab8f2355": {
      "model_module": "@jupyter-widgets/controls",
      "model_module_version": "1.5.0",
      "model_name": "HTMLModel",
      "state": {
       "layout": "IPY_MODEL_c0971f8cf1284aaca0068c0b57d6cab0",
       "style": "IPY_MODEL_28859aee2b35402d9a371a808b0f77af",
       "value": " 600/600 [00:16&lt;00:00, 35.95it/s]"
      }
     },
     "42473977bd5248308eca1210a128bdae": {
      "model_module": "@jupyter-widgets/controls",
      "model_module_version": "1.5.0",
      "model_name": "DescriptionStyleModel",
      "state": {
       "description_width": ""
      }
     },
     "42543fc2a0634ea09726a1c81687bd8e": {
      "model_module": "@jupyter-widgets/base",
      "model_module_version": "1.2.0",
      "model_name": "LayoutModel",
      "state": {}
     },
     "42c21b2eb4834c7b84838c3831e2f34b": {
      "model_module": "@jupyter-widgets/controls",
      "model_module_version": "1.5.0",
      "model_name": "DescriptionStyleModel",
      "state": {
       "description_width": ""
      }
     },
     "46fbadc7425740fd9a72f8034a4e6753": {
      "model_module": "@jupyter-widgets/base",
      "model_module_version": "1.2.0",
      "model_name": "LayoutModel",
      "state": {}
     },
     "478098d576d343e7b9c58506e29083b9": {
      "model_module": "@jupyter-widgets/base",
      "model_module_version": "1.2.0",
      "model_name": "LayoutModel",
      "state": {}
     },
     "479ef10b25b44072bf9b62bb3244e1f8": {
      "model_module": "@jupyter-widgets/base",
      "model_module_version": "1.2.0",
      "model_name": "LayoutModel",
      "state": {}
     },
     "48e29dbfe2f64b07adb36bf03501699d": {
      "model_module": "@jupyter-widgets/controls",
      "model_module_version": "1.5.0",
      "model_name": "HBoxModel",
      "state": {
       "children": [
        "IPY_MODEL_ffeae8ce8dde457eb2ba3ec954e2216e",
        "IPY_MODEL_d393ae32b0a94f1d8591995c66f71243"
       ],
       "layout": "IPY_MODEL_fb6e26311b32443391e4a1ce19de0678"
      }
     },
     "4b92c8e1cdcb4ea2a3622474cab1a875": {
      "model_module": "@jupyter-widgets/controls",
      "model_module_version": "1.5.0",
      "model_name": "ProgressStyleModel",
      "state": {
       "description_width": "initial"
      }
     },
     "4bec82b3e28441f78808b30d623eded8": {
      "model_module": "@jupyter-widgets/controls",
      "model_module_version": "1.5.0",
      "model_name": "IntProgressModel",
      "state": {
       "bar_style": "success",
       "description": "100%",
       "layout": "IPY_MODEL_f65f7b566392443eab4238881599bb42",
       "max": 600,
       "style": "IPY_MODEL_5d83d8f891bb47489b5eebd8331f97d1",
       "value": 600
      }
     },
     "4c2af1030c8246eda9ccc184abd348d1": {
      "model_module": "@jupyter-widgets/base",
      "model_module_version": "1.2.0",
      "model_name": "LayoutModel",
      "state": {}
     },
     "4c83d21fbe2546b1bc75b37618873f65": {
      "model_module": "@jupyter-widgets/controls",
      "model_module_version": "1.5.0",
      "model_name": "HBoxModel",
      "state": {
       "children": [
        "IPY_MODEL_0932d5c51b9b43eb96c0de08e3f7912d",
        "IPY_MODEL_bfb0ba4f81f14080b9924db914dcf40c"
       ],
       "layout": "IPY_MODEL_630457eddaf54d7cafe66f26ab1d46a7"
      }
     },
     "4dd555fcbbff46439f84678568653fc7": {
      "model_module": "@jupyter-widgets/controls",
      "model_module_version": "1.5.0",
      "model_name": "HBoxModel",
      "state": {
       "children": [
        "IPY_MODEL_981d3d6669074efaad34d4c206a846de",
        "IPY_MODEL_8dc36a1b5caa44c28aab86ccc0e2466c"
       ],
       "layout": "IPY_MODEL_ceb3658fd59349aaa2c4db4adbef8470"
      }
     },
     "4e39f76cfaa941b0a5ad44075c7ef198": {
      "model_module": "@jupyter-widgets/controls",
      "model_module_version": "1.5.0",
      "model_name": "HBoxModel",
      "state": {
       "children": [
        "IPY_MODEL_7cbcf84618fd43efa672966c819226c5",
        "IPY_MODEL_d291924bdbb349e69a084d7d91c76ebe"
       ],
       "layout": "IPY_MODEL_f8d0a0172da942d0bf4db39113cfef42"
      }
     },
     "4e667c6c267445c3a0c622dacbafb07d": {
      "model_module": "@jupyter-widgets/controls",
      "model_module_version": "1.5.0",
      "model_name": "ProgressStyleModel",
      "state": {
       "description_width": "initial"
      }
     },
     "4ed8e96625e24a919dcdc548e12086e9": {
      "model_module": "@jupyter-widgets/base",
      "model_module_version": "1.2.0",
      "model_name": "LayoutModel",
      "state": {}
     },
     "4effd6c2df37488b959fc5a7d9616574": {
      "model_module": "@jupyter-widgets/base",
      "model_module_version": "1.2.0",
      "model_name": "LayoutModel",
      "state": {}
     },
     "4f35ff781dcf40c6b03ce427f220dfe4": {
      "model_module": "@jupyter-widgets/controls",
      "model_module_version": "1.5.0",
      "model_name": "DescriptionStyleModel",
      "state": {
       "description_width": ""
      }
     },
     "5081bd58b2c548079ae99dce7948daa1": {
      "model_module": "@jupyter-widgets/controls",
      "model_module_version": "1.5.0",
      "model_name": "DescriptionStyleModel",
      "state": {
       "description_width": ""
      }
     },
     "528a56a1b95c4800979ea636e4de3920": {
      "model_module": "@jupyter-widgets/base",
      "model_module_version": "1.2.0",
      "model_name": "LayoutModel",
      "state": {}
     },
     "53ae2d18383a43ebb7a2327b62efdbfe": {
      "model_module": "@jupyter-widgets/base",
      "model_module_version": "1.2.0",
      "model_name": "LayoutModel",
      "state": {}
     },
     "546189e2848f4b218d68788c06d6ea85": {
      "model_module": "@jupyter-widgets/base",
      "model_module_version": "1.2.0",
      "model_name": "LayoutModel",
      "state": {}
     },
     "55001bfcd7dd4a0db1f8170c55fc99a9": {
      "model_module": "@jupyter-widgets/controls",
      "model_module_version": "1.5.0",
      "model_name": "IntProgressModel",
      "state": {
       "bar_style": "success",
       "description": "100%",
       "layout": "IPY_MODEL_61b8676138324dd3831ebaed08572e4f",
       "max": 600,
       "style": "IPY_MODEL_b1fa6a5c2a2443f7b0561ad65e10468e",
       "value": 600
      }
     },
     "5a56523082f64d1f87a176df5fb4ea70": {
      "model_module": "@jupyter-widgets/base",
      "model_module_version": "1.2.0",
      "model_name": "LayoutModel",
      "state": {}
     },
     "5c8efd00942349a4b025e705fa9c4f49": {
      "model_module": "@jupyter-widgets/controls",
      "model_module_version": "1.5.0",
      "model_name": "DescriptionStyleModel",
      "state": {
       "description_width": ""
      }
     },
     "5d83d8f891bb47489b5eebd8331f97d1": {
      "model_module": "@jupyter-widgets/controls",
      "model_module_version": "1.5.0",
      "model_name": "ProgressStyleModel",
      "state": {
       "description_width": "initial"
      }
     },
     "5dfeb1724b7340a8806aa3e944db9956": {
      "model_module": "@jupyter-widgets/controls",
      "model_module_version": "1.5.0",
      "model_name": "HBoxModel",
      "state": {
       "children": [
        "IPY_MODEL_d89d4ffb0770466292129554c7369cae",
        "IPY_MODEL_dd2b6ac6de5a4907bde927b72e888208"
       ],
       "layout": "IPY_MODEL_e5bb8e91222b466791970de816a0187b"
      }
     },
     "5e838fe82fa549aaab1fde139b26121a": {
      "model_module": "@jupyter-widgets/base",
      "model_module_version": "1.2.0",
      "model_name": "LayoutModel",
      "state": {}
     },
     "5ebbf75c554e4ada93d74270c4550786": {
      "model_module": "@jupyter-widgets/base",
      "model_module_version": "1.2.0",
      "model_name": "LayoutModel",
      "state": {}
     },
     "5ebf9c13b75741a3950b6461bee442af": {
      "model_module": "@jupyter-widgets/base",
      "model_module_version": "1.2.0",
      "model_name": "LayoutModel",
      "state": {}
     },
     "5f3b481c4c934ee3ab2a2086412d6cc8": {
      "model_module": "@jupyter-widgets/base",
      "model_module_version": "1.2.0",
      "model_name": "LayoutModel",
      "state": {}
     },
     "6029a556c8d543f9929a6e553bf4a9a5": {
      "model_module": "@jupyter-widgets/base",
      "model_module_version": "1.2.0",
      "model_name": "LayoutModel",
      "state": {}
     },
     "60822cf6904c4c5783ea10b340ce5d25": {
      "model_module": "@jupyter-widgets/controls",
      "model_module_version": "1.5.0",
      "model_name": "ProgressStyleModel",
      "state": {
       "description_width": "initial"
      }
     },
     "61b8676138324dd3831ebaed08572e4f": {
      "model_module": "@jupyter-widgets/base",
      "model_module_version": "1.2.0",
      "model_name": "LayoutModel",
      "state": {}
     },
     "62dc1a0c9aeb4b358153d28c758c6956": {
      "model_module": "@jupyter-widgets/controls",
      "model_module_version": "1.5.0",
      "model_name": "DescriptionStyleModel",
      "state": {
       "description_width": ""
      }
     },
     "630457eddaf54d7cafe66f26ab1d46a7": {
      "model_module": "@jupyter-widgets/base",
      "model_module_version": "1.2.0",
      "model_name": "LayoutModel",
      "state": {}
     },
     "632fc624cc5e468e91881abe43915155": {
      "model_module": "@jupyter-widgets/base",
      "model_module_version": "1.2.0",
      "model_name": "LayoutModel",
      "state": {}
     },
     "64630cc14f9b474287401e4bac647c22": {
      "model_module": "@jupyter-widgets/controls",
      "model_module_version": "1.5.0",
      "model_name": "DescriptionStyleModel",
      "state": {
       "description_width": ""
      }
     },
     "64777a4ec2d0417a949bba49edaedd94": {
      "model_module": "@jupyter-widgets/base",
      "model_module_version": "1.2.0",
      "model_name": "LayoutModel",
      "state": {}
     },
     "6779d64d71cc4f80a18e3d7edb9fe77b": {
      "model_module": "@jupyter-widgets/controls",
      "model_module_version": "1.5.0",
      "model_name": "IntProgressModel",
      "state": {
       "bar_style": "success",
       "description": "100%",
       "layout": "IPY_MODEL_479ef10b25b44072bf9b62bb3244e1f8",
       "max": 600,
       "style": "IPY_MODEL_7903dd30475249cdb0b4e61de937e7c1",
       "value": 600
      }
     },
     "67f315fc5a574521ae2b868d7c18d7f1": {
      "model_module": "@jupyter-widgets/controls",
      "model_module_version": "1.5.0",
      "model_name": "HTMLModel",
      "state": {
       "layout": "IPY_MODEL_a7607c75edb94eb8a040b8d9713ce38a",
       "style": "IPY_MODEL_62dc1a0c9aeb4b358153d28c758c6956",
       "value": " 600/600 [05:57&lt;00:00,  1.68it/s]"
      }
     },
     "6ac175ccc9174632802d40c527afdea3": {
      "model_module": "@jupyter-widgets/controls",
      "model_module_version": "1.5.0",
      "model_name": "HTMLModel",
      "state": {
       "layout": "IPY_MODEL_f0874107f14b455ca59d0efd8bea5db1",
       "style": "IPY_MODEL_9613febf823e490487115eaacc3791a6",
       "value": " 600/600 [00:16&lt;00:00, 36.04it/s]"
      }
     },
     "6ad9032d612f454b85321ed603ca3815": {
      "model_module": "@jupyter-widgets/controls",
      "model_module_version": "1.5.0",
      "model_name": "IntProgressModel",
      "state": {
       "bar_style": "success",
       "description": "100%",
       "layout": "IPY_MODEL_b29d4784e1194b61851631bbb06c4a32",
       "max": 600,
       "style": "IPY_MODEL_4b92c8e1cdcb4ea2a3622474cab1a875",
       "value": 600
      }
     },
     "6d69e250974440d2aaa5d90d5371c959": {
      "model_module": "@jupyter-widgets/base",
      "model_module_version": "1.2.0",
      "model_name": "LayoutModel",
      "state": {}
     },
     "6dadd75dd8224017a21fea4302e957aa": {
      "model_module": "@jupyter-widgets/base",
      "model_module_version": "1.2.0",
      "model_name": "LayoutModel",
      "state": {}
     },
     "70837d601e064314987516a48f246429": {
      "model_module": "@jupyter-widgets/base",
      "model_module_version": "1.2.0",
      "model_name": "LayoutModel",
      "state": {}
     },
     "71f74cf044db43979c7a297ff8be572e": {
      "model_module": "@jupyter-widgets/base",
      "model_module_version": "1.2.0",
      "model_name": "LayoutModel",
      "state": {}
     },
     "72aa4e65f9fe4712a55091c02e85b221": {
      "model_module": "@jupyter-widgets/base",
      "model_module_version": "1.2.0",
      "model_name": "LayoutModel",
      "state": {}
     },
     "74c67621af0148fe92defe8e4513c56c": {
      "model_module": "@jupyter-widgets/base",
      "model_module_version": "1.2.0",
      "model_name": "LayoutModel",
      "state": {}
     },
     "752ef1aef0804eabbe76ba2a4f5a56c8": {
      "model_module": "@jupyter-widgets/base",
      "model_module_version": "1.2.0",
      "model_name": "LayoutModel",
      "state": {}
     },
     "75657820ee9648bca89a17c4def23516": {
      "model_module": "@jupyter-widgets/base",
      "model_module_version": "1.2.0",
      "model_name": "LayoutModel",
      "state": {}
     },
     "759a293be651417982a43ab19f7ef9be": {
      "model_module": "@jupyter-widgets/controls",
      "model_module_version": "1.5.0",
      "model_name": "ProgressStyleModel",
      "state": {
       "description_width": "initial"
      }
     },
     "75a748fff88147efbf2c40e75150f667": {
      "model_module": "@jupyter-widgets/controls",
      "model_module_version": "1.5.0",
      "model_name": "HBoxModel",
      "state": {
       "children": [
        "IPY_MODEL_de4d634ca87f438e9c4aaf69072cb2e1",
        "IPY_MODEL_6ac175ccc9174632802d40c527afdea3"
       ],
       "layout": "IPY_MODEL_c93a4f2634ab4334a9bc86f864ec9d03"
      }
     },
     "779e7d516c99412f84a0be9af866c266": {
      "model_module": "@jupyter-widgets/controls",
      "model_module_version": "1.5.0",
      "model_name": "HBoxModel",
      "state": {
       "children": [
        "IPY_MODEL_781e1aed06e348ac827b4339bc448f75",
        "IPY_MODEL_32e9a047ea3a41439e5d83ecc5310ddb"
       ],
       "layout": "IPY_MODEL_21606ea13c9c4afa8ef95cd727230bdc"
      }
     },
     "7813e38f58f242f5868953bd4c8003fc": {
      "model_module": "@jupyter-widgets/controls",
      "model_module_version": "1.5.0",
      "model_name": "DescriptionStyleModel",
      "state": {
       "description_width": ""
      }
     },
     "781e1aed06e348ac827b4339bc448f75": {
      "model_module": "@jupyter-widgets/controls",
      "model_module_version": "1.5.0",
      "model_name": "IntProgressModel",
      "state": {
       "bar_style": "success",
       "description": "100%",
       "layout": "IPY_MODEL_5f3b481c4c934ee3ab2a2086412d6cc8",
       "style": "IPY_MODEL_da6915df7a4e4525a369586d4e45111a",
       "value": 100
      }
     },
     "7903dd30475249cdb0b4e61de937e7c1": {
      "model_module": "@jupyter-widgets/controls",
      "model_module_version": "1.5.0",
      "model_name": "ProgressStyleModel",
      "state": {
       "description_width": "initial"
      }
     },
     "7953b46a197646e085cd429c4777ec30": {
      "model_module": "@jupyter-widgets/controls",
      "model_module_version": "1.5.0",
      "model_name": "DescriptionStyleModel",
      "state": {
       "description_width": ""
      }
     },
     "7cbcf84618fd43efa672966c819226c5": {
      "model_module": "@jupyter-widgets/controls",
      "model_module_version": "1.5.0",
      "model_name": "IntProgressModel",
      "state": {
       "bar_style": "success",
       "description": "100%",
       "layout": "IPY_MODEL_74c67621af0148fe92defe8e4513c56c",
       "style": "IPY_MODEL_139a26066e2a453a92a5741ac7440a3f",
       "value": 100
      }
     },
     "7e2a7cb7b012443d80dd1e19e3f9934e": {
      "model_module": "@jupyter-widgets/base",
      "model_module_version": "1.2.0",
      "model_name": "LayoutModel",
      "state": {}
     },
     "7e87dbe6f0484a6d891c4359f362f2ba": {
      "model_module": "@jupyter-widgets/controls",
      "model_module_version": "1.5.0",
      "model_name": "ProgressStyleModel",
      "state": {
       "description_width": "initial"
      }
     },
     "83e68222f60c48dca841c8836e582553": {
      "model_module": "@jupyter-widgets/base",
      "model_module_version": "1.2.0",
      "model_name": "LayoutModel",
      "state": {}
     },
     "85a0c592d9b54b44a240e2dff7947ebd": {
      "model_module": "@jupyter-widgets/controls",
      "model_module_version": "1.5.0",
      "model_name": "HBoxModel",
      "state": {
       "children": [
        "IPY_MODEL_f3149d5c75fa45999c4797beb1efb134",
        "IPY_MODEL_efd0d8f6ffee421b9c372c76ed9ef1a8"
       ],
       "layout": "IPY_MODEL_0c18433b48ac4be0b0e037d5be0c63f8"
      }
     },
     "86aabc046a7d4feeaec002c17836cf74": {
      "model_module": "@jupyter-widgets/controls",
      "model_module_version": "1.5.0",
      "model_name": "HBoxModel",
      "state": {
       "children": [
        "IPY_MODEL_6779d64d71cc4f80a18e3d7edb9fe77b",
        "IPY_MODEL_d9f45d42e93e4a65b23d8fe9eeff9680"
       ],
       "layout": "IPY_MODEL_546189e2848f4b218d68788c06d6ea85"
      }
     },
     "86f29ba697d143c3b91f46eea6c8ac69": {
      "model_module": "@jupyter-widgets/base",
      "model_module_version": "1.2.0",
      "model_name": "LayoutModel",
      "state": {}
     },
     "87443c75233049f2b0d63527c639d788": {
      "model_module": "@jupyter-widgets/base",
      "model_module_version": "1.2.0",
      "model_name": "LayoutModel",
      "state": {}
     },
     "8c5e48995dd2474cb1ac1ca557aee46c": {
      "model_module": "@jupyter-widgets/controls",
      "model_module_version": "1.5.0",
      "model_name": "HTMLModel",
      "state": {
       "layout": "IPY_MODEL_30309ea05c174448943ecb5ba92ae0e5",
       "style": "IPY_MODEL_42c21b2eb4834c7b84838c3831e2f34b",
       "value": " 600/600 [00:17&lt;00:00, 34.84it/s]"
      }
     },
     "8c69ddf36e724015b78f9cc894a6f21f": {
      "model_module": "@jupyter-widgets/controls",
      "model_module_version": "1.5.0",
      "model_name": "ProgressStyleModel",
      "state": {
       "description_width": "initial"
      }
     },
     "8d6868ab27044d9485a2293e9c3bf9bf": {
      "model_module": "@jupyter-widgets/base",
      "model_module_version": "1.2.0",
      "model_name": "LayoutModel",
      "state": {}
     },
     "8dc36a1b5caa44c28aab86ccc0e2466c": {
      "model_module": "@jupyter-widgets/controls",
      "model_module_version": "1.5.0",
      "model_name": "HTMLModel",
      "state": {
       "layout": "IPY_MODEL_949caffe9dd84ed09bedc0bf1124ba97",
       "style": "IPY_MODEL_da97ac27d58e4fff9ac9727fc8739935",
       "value": " 100/100 [09:50&lt;00:00,  5.91s/it]"
      }
     },
     "8dd74db4495047afa57108a8322cc955": {
      "model_module": "@jupyter-widgets/controls",
      "model_module_version": "1.5.0",
      "model_name": "HTMLModel",
      "state": {
       "layout": "IPY_MODEL_46fbadc7425740fd9a72f8034a4e6753",
       "style": "IPY_MODEL_0dcf2e7c51d04f5da15ede8dd49f0eac",
       "value": " 100/100 [00:02&lt;00:00, 40.64it/s]"
      }
     },
     "8e51c26c3ff44704a9d7a8a1569d80e2": {
      "model_module": "@jupyter-widgets/base",
      "model_module_version": "1.2.0",
      "model_name": "LayoutModel",
      "state": {}
     },
     "8eead517aa514ed2a9e25df04f297a67": {
      "model_module": "@jupyter-widgets/base",
      "model_module_version": "1.2.0",
      "model_name": "LayoutModel",
      "state": {}
     },
     "923408fcd3914759aac25869e9932089": {
      "model_module": "@jupyter-widgets/controls",
      "model_module_version": "1.5.0",
      "model_name": "HBoxModel",
      "state": {
       "children": [
        "IPY_MODEL_a939165387624f99beb4b6912be50e9f",
        "IPY_MODEL_b0df088735164f94ab9029100a9594b2"
       ],
       "layout": "IPY_MODEL_72aa4e65f9fe4712a55091c02e85b221"
      }
     },
     "933e074b71be43eb8360fe8adfdc8ebe": {
      "model_module": "@jupyter-widgets/controls",
      "model_module_version": "1.5.0",
      "model_name": "HBoxModel",
      "state": {
       "children": [
        "IPY_MODEL_fba342d17a2c4becba5cf51f4d519d04",
        "IPY_MODEL_de4c0ab7d46141429e4935d1fe607f68"
       ],
       "layout": "IPY_MODEL_c3fe098697ec4ef3b3f8a85d4d8e6a5e"
      }
     },
     "949caffe9dd84ed09bedc0bf1124ba97": {
      "model_module": "@jupyter-widgets/base",
      "model_module_version": "1.2.0",
      "model_name": "LayoutModel",
      "state": {}
     },
     "9613febf823e490487115eaacc3791a6": {
      "model_module": "@jupyter-widgets/controls",
      "model_module_version": "1.5.0",
      "model_name": "DescriptionStyleModel",
      "state": {
       "description_width": ""
      }
     },
     "96ad99d2f3484aa6a7d5e826b948ad7f": {
      "model_module": "@jupyter-widgets/controls",
      "model_module_version": "1.5.0",
      "model_name": "HTMLModel",
      "state": {
       "layout": "IPY_MODEL_4c2af1030c8246eda9ccc184abd348d1",
       "style": "IPY_MODEL_4f35ff781dcf40c6b03ce427f220dfe4",
       "value": " 100/100 [00:02&lt;00:00, 39.49it/s]"
      }
     },
     "981d3d6669074efaad34d4c206a846de": {
      "model_module": "@jupyter-widgets/controls",
      "model_module_version": "1.5.0",
      "model_name": "FloatProgressModel",
      "state": {
       "bar_style": "success",
       "description": "100%",
       "layout": "IPY_MODEL_b60258cf7d814b6787e2fe99a1b529f1",
       "style": "IPY_MODEL_c4e14d440c4242b280b8f3368116e74e",
       "value": 100
      }
     },
     "98b7436fd7704f89a1ccb7237cda7f79": {
      "model_module": "@jupyter-widgets/base",
      "model_module_version": "1.2.0",
      "model_name": "LayoutModel",
      "state": {}
     },
     "99b01a10f9c8459c9c54a4c3ad789113": {
      "model_module": "@jupyter-widgets/base",
      "model_module_version": "1.2.0",
      "model_name": "LayoutModel",
      "state": {}
     },
     "9e6e9e41a88c48be86597fd4c6d32411": {
      "model_module": "@jupyter-widgets/controls",
      "model_module_version": "1.5.0",
      "model_name": "HBoxModel",
      "state": {
       "children": [
        "IPY_MODEL_0b90a0686fef47dc8985949c412ebf43",
        "IPY_MODEL_96ad99d2f3484aa6a7d5e826b948ad7f"
       ],
       "layout": "IPY_MODEL_87443c75233049f2b0d63527c639d788"
      }
     },
     "a041a92e25774d98abdc431e2efd775a": {
      "model_module": "@jupyter-widgets/controls",
      "model_module_version": "1.5.0",
      "model_name": "FloatProgressModel",
      "state": {
       "bar_style": "success",
       "description": "100%",
       "layout": "IPY_MODEL_478098d576d343e7b9c58506e29083b9",
       "max": 600,
       "style": "IPY_MODEL_12103e9b32b9465dad4870cebdf41a19",
       "value": 600
      }
     },
     "a244e86fbb294059aadd4d3921eafc64": {
      "model_module": "@jupyter-widgets/controls",
      "model_module_version": "1.5.0",
      "model_name": "HBoxModel",
      "state": {
       "children": [
        "IPY_MODEL_cd882c20143846d3a41f9fabfc396083",
        "IPY_MODEL_b75159e0807e4a928bc09275b44c6cb9"
       ],
       "layout": "IPY_MODEL_0dbce132f8a2478b897a85759e59241a"
      }
     },
     "a4d777e8f0994329912efaab8f50d747": {
      "model_module": "@jupyter-widgets/controls",
      "model_module_version": "1.5.0",
      "model_name": "ProgressStyleModel",
      "state": {
       "description_width": "initial"
      }
     },
     "a52554c238f84cefa9e52f4ea05c75e7": {
      "model_module": "@jupyter-widgets/controls",
      "model_module_version": "1.5.0",
      "model_name": "HTMLModel",
      "state": {
       "layout": "IPY_MODEL_c9b74f1c8796436dbe487ebd9e428079",
       "style": "IPY_MODEL_c8e1306d346b4496bae3e5d745db9b7b",
       "value": " 600/600 [00:16&lt;00:00, 35.42it/s]"
      }
     },
     "a52ede1b19f84fa1887ca5c33686b97e": {
      "model_module": "@jupyter-widgets/base",
      "model_module_version": "1.2.0",
      "model_name": "LayoutModel",
      "state": {}
     },
     "a7607c75edb94eb8a040b8d9713ce38a": {
      "model_module": "@jupyter-widgets/base",
      "model_module_version": "1.2.0",
      "model_name": "LayoutModel",
      "state": {}
     },
     "a7904028f3dd4922a5e815f609898255": {
      "model_module": "@jupyter-widgets/controls",
      "model_module_version": "1.5.0",
      "model_name": "ProgressStyleModel",
      "state": {
       "description_width": "initial"
      }
     },
     "a8a79b095f874fe0bb8764e960bdbe57": {
      "model_module": "@jupyter-widgets/controls",
      "model_module_version": "1.5.0",
      "model_name": "HTMLModel",
      "state": {
       "layout": "IPY_MODEL_5e838fe82fa549aaab1fde139b26121a",
       "style": "IPY_MODEL_64630cc14f9b474287401e4bac647c22",
       "value": " 100/100 [00:02&lt;00:00, 48.19it/s]"
      }
     },
     "a939165387624f99beb4b6912be50e9f": {
      "model_module": "@jupyter-widgets/controls",
      "model_module_version": "1.5.0",
      "model_name": "FloatProgressModel",
      "state": {
       "bar_style": "success",
       "description": "100%",
       "layout": "IPY_MODEL_2eaf4fe1f3e14c0f81e81214ccc44f23",
       "style": "IPY_MODEL_e8658e2a7b5147439f2a7ca834866723",
       "value": 100
      }
     },
     "a9cb23521c114698aec111175b0fdded": {
      "model_module": "@jupyter-widgets/controls",
      "model_module_version": "1.5.0",
      "model_name": "HBoxModel",
      "state": {
       "children": [
        "IPY_MODEL_be90841470e448f398c1d84b58b1e5f0",
        "IPY_MODEL_a8a79b095f874fe0bb8764e960bdbe57"
       ],
       "layout": "IPY_MODEL_ede80f846a4a4f21b637697aa2ece42a"
      }
     },
     "a9fc6a779ac44d4293dbc9bb1471128e": {
      "model_module": "@jupyter-widgets/base",
      "model_module_version": "1.2.0",
      "model_name": "LayoutModel",
      "state": {}
     },
     "ab3028b53595467b92c4906fb61ba183": {
      "model_module": "@jupyter-widgets/base",
      "model_module_version": "1.2.0",
      "model_name": "LayoutModel",
      "state": {}
     },
     "acd64aff4bd24ec49aef585414303fab": {
      "model_module": "@jupyter-widgets/controls",
      "model_module_version": "1.5.0",
      "model_name": "DescriptionStyleModel",
      "state": {
       "description_width": ""
      }
     },
     "ad5dee1503b446ddb28cccbf183fc363": {
      "model_module": "@jupyter-widgets/controls",
      "model_module_version": "1.5.0",
      "model_name": "HBoxModel",
      "state": {
       "children": [
        "IPY_MODEL_4bec82b3e28441f78808b30d623eded8",
        "IPY_MODEL_8c5e48995dd2474cb1ac1ca557aee46c"
       ],
       "layout": "IPY_MODEL_75657820ee9648bca89a17c4def23516"
      }
     },
     "add02ad14fb84a52b7c910a4b40e8ad1": {
      "model_module": "@jupyter-widgets/controls",
      "model_module_version": "1.5.0",
      "model_name": "HBoxModel",
      "state": {
       "children": [
        "IPY_MODEL_d843bfacb0184b4bb76bbe7b33e2dbe2",
        "IPY_MODEL_bc2c1749e14345e0baa6bba2d6ac6d95"
       ],
       "layout": "IPY_MODEL_98b7436fd7704f89a1ccb7237cda7f79"
      }
     },
     "ade81d415aec41e6926b239254be36e7": {
      "model_module": "@jupyter-widgets/base",
      "model_module_version": "1.2.0",
      "model_name": "LayoutModel",
      "state": {}
     },
     "af7912d151154c05bd8cabe7ee565fd5": {
      "model_module": "@jupyter-widgets/controls",
      "model_module_version": "1.5.0",
      "model_name": "HBoxModel",
      "state": {
       "children": [
        "IPY_MODEL_3fb68c76bf324354ad9107041d03ecd7",
        "IPY_MODEL_240360977422488e8b422e49a837302a"
       ],
       "layout": "IPY_MODEL_258c7796504a4df9a0fc67c989e7638e"
      }
     },
     "b0ae3ea99c9849768dbdea29a2c8e13b": {
      "model_module": "@jupyter-widgets/controls",
      "model_module_version": "1.5.0",
      "model_name": "DescriptionStyleModel",
      "state": {
       "description_width": ""
      }
     },
     "b0df088735164f94ab9029100a9594b2": {
      "model_module": "@jupyter-widgets/controls",
      "model_module_version": "1.5.0",
      "model_name": "HTMLModel",
      "state": {
       "layout": "IPY_MODEL_bfff147c076743d88d934ed376204ea2",
       "style": "IPY_MODEL_be848a6d87f542a0b337ebbe1a535f92",
       "value": " 100/100 [00:04&lt;00:00, 24.88it/s]"
      }
     },
     "b128a79ff7ad48fab8f178d0ac19d24a": {
      "model_module": "@jupyter-widgets/controls",
      "model_module_version": "1.5.0",
      "model_name": "DescriptionStyleModel",
      "state": {
       "description_width": ""
      }
     },
     "b1fa6a5c2a2443f7b0561ad65e10468e": {
      "model_module": "@jupyter-widgets/controls",
      "model_module_version": "1.5.0",
      "model_name": "ProgressStyleModel",
      "state": {
       "description_width": "initial"
      }
     },
     "b29d4784e1194b61851631bbb06c4a32": {
      "model_module": "@jupyter-widgets/base",
      "model_module_version": "1.2.0",
      "model_name": "LayoutModel",
      "state": {}
     },
     "b3c0849c8fbb49b989ca8ac1e00f2ca7": {
      "model_module": "@jupyter-widgets/controls",
      "model_module_version": "1.5.0",
      "model_name": "HBoxModel",
      "state": {
       "children": [
        "IPY_MODEL_312e9fe46c29463999edfd8af1ade5b9",
        "IPY_MODEL_070afb362477408c98244dcab5f6f78d"
       ],
       "layout": "IPY_MODEL_752ef1aef0804eabbe76ba2a4f5a56c8"
      }
     },
     "b60258cf7d814b6787e2fe99a1b529f1": {
      "model_module": "@jupyter-widgets/base",
      "model_module_version": "1.2.0",
      "model_name": "LayoutModel",
      "state": {}
     },
     "b75159e0807e4a928bc09275b44c6cb9": {
      "model_module": "@jupyter-widgets/controls",
      "model_module_version": "1.5.0",
      "model_name": "HTMLModel",
      "state": {
       "layout": "IPY_MODEL_1529183ff7ec4da283de68d8c1c0479a",
       "style": "IPY_MODEL_eb99c93d5cfd4d1eb17dc0c730dd12f8",
       "value": " 100/100 [00:03&lt;00:00, 27.18it/s]"
      }
     },
     "b914085c48e34577b65a00e1b65949a8": {
      "model_module": "@jupyter-widgets/base",
      "model_module_version": "1.2.0",
      "model_name": "LayoutModel",
      "state": {}
     },
     "b93c66637fc64d688bd063a9209b79e3": {
      "model_module": "@jupyter-widgets/base",
      "model_module_version": "1.2.0",
      "model_name": "LayoutModel",
      "state": {}
     },
     "bc2c1749e14345e0baa6bba2d6ac6d95": {
      "model_module": "@jupyter-widgets/controls",
      "model_module_version": "1.5.0",
      "model_name": "HTMLModel",
      "state": {
       "layout": "IPY_MODEL_ade81d415aec41e6926b239254be36e7",
       "style": "IPY_MODEL_b128a79ff7ad48fab8f178d0ac19d24a",
       "value": " 100/100 [00:03&lt;00:00, 25.77it/s]"
      }
     },
     "bc34ea8a46cf4910b7247d71d1adfd61": {
      "model_module": "@jupyter-widgets/controls",
      "model_module_version": "1.5.0",
      "model_name": "FloatProgressModel",
      "state": {
       "bar_style": "success",
       "description": "100%",
       "layout": "IPY_MODEL_22dedf5d1fee4ebd87e98481abd7edaf",
       "max": 600,
       "style": "IPY_MODEL_1dfd902123c54bd2a6a9d0fc648c5482",
       "value": 600
      }
     },
     "bc8f5b6c8f534b79940e05b0bf9a7ba4": {
      "model_module": "@jupyter-widgets/controls",
      "model_module_version": "1.5.0",
      "model_name": "ProgressStyleModel",
      "state": {
       "description_width": "initial"
      }
     },
     "be848a6d87f542a0b337ebbe1a535f92": {
      "model_module": "@jupyter-widgets/controls",
      "model_module_version": "1.5.0",
      "model_name": "DescriptionStyleModel",
      "state": {
       "description_width": ""
      }
     },
     "be90841470e448f398c1d84b58b1e5f0": {
      "model_module": "@jupyter-widgets/controls",
      "model_module_version": "1.5.0",
      "model_name": "IntProgressModel",
      "state": {
       "bar_style": "success",
       "description": "100%",
       "layout": "IPY_MODEL_b914085c48e34577b65a00e1b65949a8",
       "style": "IPY_MODEL_759a293be651417982a43ab19f7ef9be",
       "value": 100
      }
     },
     "bfb0ba4f81f14080b9924db914dcf40c": {
      "model_module": "@jupyter-widgets/controls",
      "model_module_version": "1.5.0",
      "model_name": "HTMLModel",
      "state": {
       "layout": "IPY_MODEL_83e68222f60c48dca841c8836e582553",
       "style": "IPY_MODEL_7813e38f58f242f5868953bd4c8003fc",
       "value": " 600/600 [00:20&lt;00:00, 29.87it/s]"
      }
     },
     "bfff147c076743d88d934ed376204ea2": {
      "model_module": "@jupyter-widgets/base",
      "model_module_version": "1.2.0",
      "model_name": "LayoutModel",
      "state": {}
     },
     "c0971f8cf1284aaca0068c0b57d6cab0": {
      "model_module": "@jupyter-widgets/base",
      "model_module_version": "1.2.0",
      "model_name": "LayoutModel",
      "state": {}
     },
     "c3fe098697ec4ef3b3f8a85d4d8e6a5e": {
      "model_module": "@jupyter-widgets/base",
      "model_module_version": "1.2.0",
      "model_name": "LayoutModel",
      "state": {}
     },
     "c4e14d440c4242b280b8f3368116e74e": {
      "model_module": "@jupyter-widgets/controls",
      "model_module_version": "1.5.0",
      "model_name": "ProgressStyleModel",
      "state": {
       "description_width": "initial"
      }
     },
     "c70a9240175b4c209fd149f57dd07fba": {
      "model_module": "@jupyter-widgets/controls",
      "model_module_version": "1.5.0",
      "model_name": "DescriptionStyleModel",
      "state": {
       "description_width": ""
      }
     },
     "c8253a11811f4b0cbc812051b6de6f6e": {
      "model_module": "@jupyter-widgets/base",
      "model_module_version": "1.2.0",
      "model_name": "LayoutModel",
      "state": {}
     },
     "c8561fa56818435f94707ee41181197c": {
      "model_module": "@jupyter-widgets/controls",
      "model_module_version": "1.5.0",
      "model_name": "ProgressStyleModel",
      "state": {
       "description_width": "initial"
      }
     },
     "c8e1306d346b4496bae3e5d745db9b7b": {
      "model_module": "@jupyter-widgets/controls",
      "model_module_version": "1.5.0",
      "model_name": "DescriptionStyleModel",
      "state": {
       "description_width": ""
      }
     },
     "c93a4f2634ab4334a9bc86f864ec9d03": {
      "model_module": "@jupyter-widgets/base",
      "model_module_version": "1.2.0",
      "model_name": "LayoutModel",
      "state": {}
     },
     "c9b74f1c8796436dbe487ebd9e428079": {
      "model_module": "@jupyter-widgets/base",
      "model_module_version": "1.2.0",
      "model_name": "LayoutModel",
      "state": {}
     },
     "cabcc13852074e07a8d322cd99f24e5e": {
      "model_module": "@jupyter-widgets/controls",
      "model_module_version": "1.5.0",
      "model_name": "ProgressStyleModel",
      "state": {
       "description_width": "initial"
      }
     },
     "cd4ee4fec9a845c3a17cbc5516345a56": {
      "model_module": "@jupyter-widgets/controls",
      "model_module_version": "1.5.0",
      "model_name": "IntProgressModel",
      "state": {
       "bar_style": "success",
       "description": "100%",
       "layout": "IPY_MODEL_f0ad882691bd4012aa89810f86c52621",
       "max": 600,
       "style": "IPY_MODEL_1cb1d5db956f4c1599f362159649c5cb",
       "value": 600
      }
     },
     "cd882c20143846d3a41f9fabfc396083": {
      "model_module": "@jupyter-widgets/controls",
      "model_module_version": "1.5.0",
      "model_name": "FloatProgressModel",
      "state": {
       "bar_style": "success",
       "description": "100%",
       "layout": "IPY_MODEL_42543fc2a0634ea09726a1c81687bd8e",
       "style": "IPY_MODEL_00b11bd242e84c3f9ca4de87144b4e09",
       "value": 100
      }
     },
     "ceb3658fd59349aaa2c4db4adbef8470": {
      "model_module": "@jupyter-widgets/base",
      "model_module_version": "1.2.0",
      "model_name": "LayoutModel",
      "state": {}
     },
     "cf5261a320634adda2a5f76468ede1c1": {
      "model_module": "@jupyter-widgets/base",
      "model_module_version": "1.2.0",
      "model_name": "LayoutModel",
      "state": {}
     },
     "d045ee6e5ade4f938d6b76862ca5dc33": {
      "model_module": "@jupyter-widgets/base",
      "model_module_version": "1.2.0",
      "model_name": "LayoutModel",
      "state": {}
     },
     "d1901b27e0554752ae4addf37d4acfd4": {
      "model_module": "@jupyter-widgets/base",
      "model_module_version": "1.2.0",
      "model_name": "LayoutModel",
      "state": {}
     },
     "d1e25145f12b42a3be57a6aace611870": {
      "model_module": "@jupyter-widgets/controls",
      "model_module_version": "1.5.0",
      "model_name": "HTMLModel",
      "state": {
       "layout": "IPY_MODEL_4ed8e96625e24a919dcdc548e12086e9",
       "style": "IPY_MODEL_0b73de309f0e4622960445b5e67b0f23",
       "value": " 600/600 [00:19&lt;00:00, 31.36it/s]"
      }
     },
     "d291924bdbb349e69a084d7d91c76ebe": {
      "model_module": "@jupyter-widgets/controls",
      "model_module_version": "1.5.0",
      "model_name": "HTMLModel",
      "state": {
       "layout": "IPY_MODEL_00ab3361f9b948b48b0976623b0a83a7",
       "style": "IPY_MODEL_7953b46a197646e085cd429c4777ec30",
       "value": " 100/100 [00:02&lt;00:00, 39.69it/s]"
      }
     },
     "d3440bde35cd4306b00d651fb9606e47": {
      "model_module": "@jupyter-widgets/controls",
      "model_module_version": "1.5.0",
      "model_name": "DescriptionStyleModel",
      "state": {
       "description_width": ""
      }
     },
     "d393ae32b0a94f1d8591995c66f71243": {
      "model_module": "@jupyter-widgets/controls",
      "model_module_version": "1.5.0",
      "model_name": "HTMLModel",
      "state": {
       "layout": "IPY_MODEL_a9fc6a779ac44d4293dbc9bb1471128e",
       "style": "IPY_MODEL_b0ae3ea99c9849768dbdea29a2c8e13b",
       "value": " 600/600 [00:19&lt;00:00, 30.64it/s]"
      }
     },
     "d47fa458994a4c2d9922b6daf4779539": {
      "model_module": "@jupyter-widgets/controls",
      "model_module_version": "1.5.0",
      "model_name": "ProgressStyleModel",
      "state": {
       "description_width": "initial"
      }
     },
     "d843bfacb0184b4bb76bbe7b33e2dbe2": {
      "model_module": "@jupyter-widgets/controls",
      "model_module_version": "1.5.0",
      "model_name": "FloatProgressModel",
      "state": {
       "bar_style": "success",
       "description": "100%",
       "layout": "IPY_MODEL_86f29ba697d143c3b91f46eea6c8ac69",
       "style": "IPY_MODEL_f7ada3f0f10542ae82485d5c976ef85f",
       "value": 100
      }
     },
     "d89d4ffb0770466292129554c7369cae": {
      "model_module": "@jupyter-widgets/controls",
      "model_module_version": "1.5.0",
      "model_name": "IntProgressModel",
      "state": {
       "bar_style": "success",
       "description": "100%",
       "layout": "IPY_MODEL_7e2a7cb7b012443d80dd1e19e3f9934e",
       "style": "IPY_MODEL_25f6dea15b0448fd941133106d8d1d37",
       "value": 100
      }
     },
     "d9f45d42e93e4a65b23d8fe9eeff9680": {
      "model_module": "@jupyter-widgets/controls",
      "model_module_version": "1.5.0",
      "model_name": "HTMLModel",
      "state": {
       "layout": "IPY_MODEL_5ebf9c13b75741a3950b6461bee442af",
       "style": "IPY_MODEL_d3440bde35cd4306b00d651fb9606e47",
       "value": " 600/600 [00:20&lt;00:00, 28.95it/s]"
      }
     },
     "da6915df7a4e4525a369586d4e45111a": {
      "model_module": "@jupyter-widgets/controls",
      "model_module_version": "1.5.0",
      "model_name": "ProgressStyleModel",
      "state": {
       "description_width": "initial"
      }
     },
     "da97ac27d58e4fff9ac9727fc8739935": {
      "model_module": "@jupyter-widgets/controls",
      "model_module_version": "1.5.0",
      "model_name": "DescriptionStyleModel",
      "state": {
       "description_width": ""
      }
     },
     "dc1ec29fb4054067a283cc37d19debeb": {
      "model_module": "@jupyter-widgets/controls",
      "model_module_version": "1.5.0",
      "model_name": "HBoxModel",
      "state": {
       "children": [
        "IPY_MODEL_6ad9032d612f454b85321ed603ca3815",
        "IPY_MODEL_4112ba3474384d839e66ffaaab8f2355"
       ],
       "layout": "IPY_MODEL_df2f1c9f45dd4974bc218e0f571b020c"
      }
     },
     "dd2b6ac6de5a4907bde927b72e888208": {
      "model_module": "@jupyter-widgets/controls",
      "model_module_version": "1.5.0",
      "model_name": "HTMLModel",
      "state": {
       "layout": "IPY_MODEL_d045ee6e5ade4f938d6b76862ca5dc33",
       "style": "IPY_MODEL_3bf1ea9535ad49c189eafc90c872c079",
       "value": " 100/100 [00:02&lt;00:00, 34.76it/s]"
      }
     },
     "de4c0ab7d46141429e4935d1fe607f68": {
      "model_module": "@jupyter-widgets/controls",
      "model_module_version": "1.5.0",
      "model_name": "HTMLModel",
      "state": {
       "layout": "IPY_MODEL_cf5261a320634adda2a5f76468ede1c1",
       "style": "IPY_MODEL_5c8efd00942349a4b025e705fa9c4f49",
       "value": " 600/600 [00:20&lt;00:00, 29.66it/s]"
      }
     },
     "de4d634ca87f438e9c4aaf69072cb2e1": {
      "model_module": "@jupyter-widgets/controls",
      "model_module_version": "1.5.0",
      "model_name": "IntProgressModel",
      "state": {
       "bar_style": "success",
       "description": "100%",
       "layout": "IPY_MODEL_6d69e250974440d2aaa5d90d5371c959",
       "max": 600,
       "style": "IPY_MODEL_c8561fa56818435f94707ee41181197c",
       "value": 600
      }
     },
     "defc83db1d4e4ea38875075ba892a447": {
      "model_module": "@jupyter-widgets/controls",
      "model_module_version": "1.5.0",
      "model_name": "HBoxModel",
      "state": {
       "children": [
        "IPY_MODEL_bc34ea8a46cf4910b7247d71d1adfd61",
        "IPY_MODEL_243d640bee804e1eba736ebb83ba8252"
       ],
       "layout": "IPY_MODEL_f124af1398b5417c9d041a11e5dd44e1"
      }
     },
     "df2f1c9f45dd4974bc218e0f571b020c": {
      "model_module": "@jupyter-widgets/base",
      "model_module_version": "1.2.0",
      "model_name": "LayoutModel",
      "state": {}
     },
     "e01fab92b3e94bc6992d25581ab86245": {
      "model_module": "@jupyter-widgets/controls",
      "model_module_version": "1.5.0",
      "model_name": "HBoxModel",
      "state": {
       "children": [
        "IPY_MODEL_f1dcaff9e6d34c208aa3601a740471e1",
        "IPY_MODEL_8dd74db4495047afa57108a8322cc955"
       ],
       "layout": "IPY_MODEL_d1901b27e0554752ae4addf37d4acfd4"
      }
     },
     "e1d28e912a1d40d8890d9946c1f86981": {
      "model_module": "@jupyter-widgets/base",
      "model_module_version": "1.2.0",
      "model_name": "LayoutModel",
      "state": {}
     },
     "e2f1e64f80f34596b8b01ce372318c91": {
      "model_module": "@jupyter-widgets/base",
      "model_module_version": "1.2.0",
      "model_name": "LayoutModel",
      "state": {}
     },
     "e3e090911b134c2f9f59b1f8cdddcf4b": {
      "model_module": "@jupyter-widgets/base",
      "model_module_version": "1.2.0",
      "model_name": "LayoutModel",
      "state": {}
     },
     "e5bb8e91222b466791970de816a0187b": {
      "model_module": "@jupyter-widgets/base",
      "model_module_version": "1.2.0",
      "model_name": "LayoutModel",
      "state": {}
     },
     "e6c4c49e996f4527a29bd904dbad61ed": {
      "model_module": "@jupyter-widgets/controls",
      "model_module_version": "1.5.0",
      "model_name": "HBoxModel",
      "state": {
       "children": [
        "IPY_MODEL_29ba0b691a6e4ca18d720e23fffd4011",
        "IPY_MODEL_67f315fc5a574521ae2b868d7c18d7f1"
       ],
       "layout": "IPY_MODEL_528a56a1b95c4800979ea636e4de3920"
      }
     },
     "e70675e448214e26900ab60ae754508b": {
      "model_module": "@jupyter-widgets/controls",
      "model_module_version": "1.5.0",
      "model_name": "HBoxModel",
      "state": {
       "children": [
        "IPY_MODEL_3a93655d2d224fcf954502d9b2676711",
        "IPY_MODEL_1e442688920f4c54bc43273f7b2b7b66"
       ],
       "layout": "IPY_MODEL_8d6868ab27044d9485a2293e9c3bf9bf"
      }
     },
     "e8658e2a7b5147439f2a7ca834866723": {
      "model_module": "@jupyter-widgets/controls",
      "model_module_version": "1.5.0",
      "model_name": "ProgressStyleModel",
      "state": {
       "description_width": "initial"
      }
     },
     "eb99c93d5cfd4d1eb17dc0c730dd12f8": {
      "model_module": "@jupyter-widgets/controls",
      "model_module_version": "1.5.0",
      "model_name": "DescriptionStyleModel",
      "state": {
       "description_width": ""
      }
     },
     "ede80f846a4a4f21b637697aa2ece42a": {
      "model_module": "@jupyter-widgets/base",
      "model_module_version": "1.2.0",
      "model_name": "LayoutModel",
      "state": {}
     },
     "ee0d392ddfec4748b5b2926f1ffcc739": {
      "model_module": "@jupyter-widgets/controls",
      "model_module_version": "1.5.0",
      "model_name": "HBoxModel",
      "state": {
       "children": [
        "IPY_MODEL_33724df2f1a3433bbb26aa18bc88b126",
        "IPY_MODEL_3877f7bc979a4999a78e0ca12a2efd2f"
       ],
       "layout": "IPY_MODEL_71f74cf044db43979c7a297ff8be572e"
      }
     },
     "efd0d8f6ffee421b9c372c76ed9ef1a8": {
      "model_module": "@jupyter-widgets/controls",
      "model_module_version": "1.5.0",
      "model_name": "HTMLModel",
      "state": {
       "layout": "IPY_MODEL_1110c89bcb7948b8a4081f188c8f053f",
       "style": "IPY_MODEL_03770380477d40069927db8dba2ecc34",
       "value": " 100/100 [00:03&lt;00:00, 29.83it/s]"
      }
     },
     "f045f24016f5412696ccd4d42d3ac4a6": {
      "model_module": "@jupyter-widgets/base",
      "model_module_version": "1.2.0",
      "model_name": "LayoutModel",
      "state": {}
     },
     "f0874107f14b455ca59d0efd8bea5db1": {
      "model_module": "@jupyter-widgets/base",
      "model_module_version": "1.2.0",
      "model_name": "LayoutModel",
      "state": {}
     },
     "f0ad882691bd4012aa89810f86c52621": {
      "model_module": "@jupyter-widgets/base",
      "model_module_version": "1.2.0",
      "model_name": "LayoutModel",
      "state": {}
     },
     "f124af1398b5417c9d041a11e5dd44e1": {
      "model_module": "@jupyter-widgets/base",
      "model_module_version": "1.2.0",
      "model_name": "LayoutModel",
      "state": {}
     },
     "f1dcaff9e6d34c208aa3601a740471e1": {
      "model_module": "@jupyter-widgets/controls",
      "model_module_version": "1.5.0",
      "model_name": "IntProgressModel",
      "state": {
       "bar_style": "success",
       "description": "100%",
       "layout": "IPY_MODEL_8e51c26c3ff44704a9d7a8a1569d80e2",
       "style": "IPY_MODEL_08127475b3c0456db3db286c913b7271",
       "value": 100
      }
     },
     "f3149d5c75fa45999c4797beb1efb134": {
      "model_module": "@jupyter-widgets/controls",
      "model_module_version": "1.5.0",
      "model_name": "IntProgressModel",
      "state": {
       "bar_style": "success",
       "description": "100%",
       "layout": "IPY_MODEL_64777a4ec2d0417a949bba49edaedd94",
       "style": "IPY_MODEL_8c69ddf36e724015b78f9cc894a6f21f",
       "value": 100
      }
     },
     "f65f7b566392443eab4238881599bb42": {
      "model_module": "@jupyter-widgets/base",
      "model_module_version": "1.2.0",
      "model_name": "LayoutModel",
      "state": {}
     },
     "f7ada3f0f10542ae82485d5c976ef85f": {
      "model_module": "@jupyter-widgets/controls",
      "model_module_version": "1.5.0",
      "model_name": "ProgressStyleModel",
      "state": {
       "description_width": "initial"
      }
     },
     "f8d0a0172da942d0bf4db39113cfef42": {
      "model_module": "@jupyter-widgets/base",
      "model_module_version": "1.2.0",
      "model_name": "LayoutModel",
      "state": {}
     },
     "fb696dfe7bae4a00b375d9c7c6053293": {
      "model_module": "@jupyter-widgets/base",
      "model_module_version": "1.2.0",
      "model_name": "LayoutModel",
      "state": {}
     },
     "fb6e26311b32443391e4a1ce19de0678": {
      "model_module": "@jupyter-widgets/base",
      "model_module_version": "1.2.0",
      "model_name": "LayoutModel",
      "state": {}
     },
     "fba342d17a2c4becba5cf51f4d519d04": {
      "model_module": "@jupyter-widgets/controls",
      "model_module_version": "1.5.0",
      "model_name": "FloatProgressModel",
      "state": {
       "bar_style": "success",
       "description": "100%",
       "layout": "IPY_MODEL_632fc624cc5e468e91881abe43915155",
       "max": 600,
       "style": "IPY_MODEL_32573ae0a0994795afeb305e38ba5402",
       "value": 600
      }
     },
     "ffeae8ce8dde457eb2ba3ec954e2216e": {
      "model_module": "@jupyter-widgets/controls",
      "model_module_version": "1.5.0",
      "model_name": "IntProgressModel",
      "state": {
       "bar_style": "success",
       "description": "100%",
       "layout": "IPY_MODEL_c8253a11811f4b0cbc812051b6de6f6e",
       "max": 600,
       "style": "IPY_MODEL_bc8f5b6c8f534b79940e05b0bf9a7ba4",
       "value": 600
      }
     }
    },
    "version_major": 2,
    "version_minor": 0
   }
  }
 },
 "nbformat": 4,
 "nbformat_minor": 2
}
